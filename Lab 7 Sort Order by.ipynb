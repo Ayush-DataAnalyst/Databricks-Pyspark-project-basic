{
 "cells": [
  {
   "cell_type": "markdown",
   "metadata": {
    "application/vnd.databricks.v1+cell": {
     "cellMetadata": {},
     "inputWidgets": {},
     "nuid": "f314437c-41e6-49ee-a4d9-e48add1f7f6b",
     "showTitle": false,
     "tableResultSettingsMap": {},
     "title": ""
    }
   },
   "source": [
    " /FileStore/tables/emp_1-4.csv"
   ]
  },
  {
   "cell_type": "code",
   "execution_count": 0,
   "metadata": {
    "application/vnd.databricks.v1+cell": {
     "cellMetadata": {
      "byteLimit": 2048000,
      "rowLimit": 10000
     },
     "inputWidgets": {},
     "nuid": "cf168de6-20aa-4719-b01c-2d1f89d78d28",
     "showTitle": false,
     "tableResultSettingsMap": {},
     "title": ""
    }
   },
   "outputs": [],
   "source": [
    "df=spark.read.csv(\"/FileStore/tables/emp_1-4.csv\",header=True,inferSchema=True)"
   ]
  },
  {
   "cell_type": "code",
   "execution_count": 0,
   "metadata": {
    "application/vnd.databricks.v1+cell": {
     "cellMetadata": {
      "byteLimit": 2048000,
      "rowLimit": 10000
     },
     "inputWidgets": {},
     "nuid": "0bf96af7-08c4-41f4-97ee-5349aebbc3d3",
     "showTitle": false,
     "tableResultSettingsMap": {},
     "title": ""
    }
   },
   "outputs": [
    {
     "output_type": "stream",
     "name": "stdout",
     "output_type": "stream",
     "text": [
      "+------+------+------+-------+----+-----+\n|emp_id|  name|salary|address| loc|email|\n+------+------+------+-------+----+-----+\n|     1|manish| 10000|  india|null| null|\n|     2|  rani| 20000|    usa|null| null|\n|     3| rinku| 55000|  india|null| null|\n|     4|  neha| 12000|    usa|null| null|\n|     5|  null| 20000|    usa|null| null|\n|     6| rahul|  null|  india|null| null|\n|     1|manish| 10000|  india|null| null|\n|     2|  rani| 20000|    usa|null| null|\n|     3| rinku| 55000|  india|null| null|\n|     4|  neha| 12000|    usa|null| null|\n|     5|  null| 20000|    usa|null| null|\n|     6| rahul|  null|  india|null| null|\n+------+------+------+-------+----+-----+\n\n"
     ]
    }
   ],
   "source": [
    "df.show()"
   ]
  },
  {
   "cell_type": "code",
   "execution_count": 0,
   "metadata": {
    "application/vnd.databricks.v1+cell": {
     "cellMetadata": {
      "byteLimit": 2048000,
      "rowLimit": 10000
     },
     "inputWidgets": {},
     "nuid": "a7c3b535-3465-427c-b94c-3129a9df4e01",
     "showTitle": false,
     "tableResultSettingsMap": {},
     "title": ""
    }
   },
   "outputs": [
    {
     "output_type": "stream",
     "name": "stdout",
     "output_type": "stream",
     "text": [
      "+------+------+------+-------+----+-----+\n|emp_id|  name|salary|address| loc|email|\n+------+------+------+-------+----+-----+\n|     6| rahul|  null|  india|null| null|\n|     6| rahul|  null|  india|null| null|\n|     1|manish| 10000|  india|null| null|\n|     1|manish| 10000|  india|null| null|\n|     4|  neha| 12000|    usa|null| null|\n|     4|  neha| 12000|    usa|null| null|\n|     2|  rani| 20000|    usa|null| null|\n|     5|  null| 20000|    usa|null| null|\n|     2|  rani| 20000|    usa|null| null|\n|     5|  null| 20000|    usa|null| null|\n|     3| rinku| 55000|  india|null| null|\n|     3| rinku| 55000|  india|null| null|\n+------+------+------+-------+----+-----+\n\n"
     ]
    }
   ],
   "source": [
    "df.sort(\"salary\").show()"
   ]
  },
  {
   "cell_type": "code",
   "execution_count": 0,
   "metadata": {
    "application/vnd.databricks.v1+cell": {
     "cellMetadata": {
      "byteLimit": 2048000,
      "rowLimit": 10000
     },
     "inputWidgets": {},
     "nuid": "2a5a4392-cde9-413d-abd7-b33235ed857b",
     "showTitle": false,
     "tableResultSettingsMap": {},
     "title": ""
    }
   },
   "outputs": [
    {
     "output_type": "stream",
     "name": "stdout",
     "output_type": "stream",
     "text": [
      "+------+------+------+-------+----+-----+\n|emp_id|  name|salary|address| loc|email|\n+------+------+------+-------+----+-----+\n|     6| rahul|  null|  india|null| null|\n|     6| rahul|  null|  india|null| null|\n|     1|manish| 10000|  india|null| null|\n|     1|manish| 10000|  india|null| null|\n|     4|  neha| 12000|    usa|null| null|\n|     4|  neha| 12000|    usa|null| null|\n|     2|  rani| 20000|    usa|null| null|\n|     5|  null| 20000|    usa|null| null|\n|     2|  rani| 20000|    usa|null| null|\n|     5|  null| 20000|    usa|null| null|\n|     3| rinku| 55000|  india|null| null|\n|     3| rinku| 55000|  india|null| null|\n+------+------+------+-------+----+-----+\n\n"
     ]
    }
   ],
   "source": [
    "df.orderBy(\"salary\").show()"
   ]
  },
  {
   "cell_type": "code",
   "execution_count": 0,
   "metadata": {
    "application/vnd.databricks.v1+cell": {
     "cellMetadata": {
      "byteLimit": 2048000,
      "rowLimit": 10000
     },
     "inputWidgets": {},
     "nuid": "42062318-8760-4244-8af6-671dc9c3479e",
     "showTitle": false,
     "tableResultSettingsMap": {},
     "title": ""
    }
   },
   "outputs": [
    {
     "output_type": "stream",
     "name": "stdout",
     "output_type": "stream",
     "text": [
      "+------+------+------+-------+----+-----+\n|emp_id|  name|salary|address| loc|email|\n+------+------+------+-------+----+-----+\n|     3| rinku| 55000|  india|null| null|\n|     3| rinku| 55000|  india|null| null|\n|     2|  rani| 20000|    usa|null| null|\n|     5|  null| 20000|    usa|null| null|\n|     2|  rani| 20000|    usa|null| null|\n|     5|  null| 20000|    usa|null| null|\n|     4|  neha| 12000|    usa|null| null|\n|     4|  neha| 12000|    usa|null| null|\n|     1|manish| 10000|  india|null| null|\n|     1|manish| 10000|  india|null| null|\n|     6| rahul|  null|  india|null| null|\n|     6| rahul|  null|  india|null| null|\n+------+------+------+-------+----+-----+\n\n"
     ]
    }
   ],
   "source": [
    "df.sort(df.salary.desc()).show()"
   ]
  },
  {
   "cell_type": "code",
   "execution_count": 0,
   "metadata": {
    "application/vnd.databricks.v1+cell": {
     "cellMetadata": {
      "byteLimit": 2048000,
      "rowLimit": 10000
     },
     "inputWidgets": {},
     "nuid": "8ffc9894-711a-44a1-a879-43ea2265a017",
     "showTitle": false,
     "tableResultSettingsMap": {},
     "title": ""
    }
   },
   "outputs": [
    {
     "output_type": "stream",
     "name": "stdout",
     "output_type": "stream",
     "text": [
      "+------+------+------+-------+----+-----+\n|emp_id|  name|salary|address| loc|email|\n+------+------+------+-------+----+-----+\n|     3| rinku| 55000|  india|null| null|\n|     3| rinku| 55000|  india|null| null|\n|     2|  rani| 20000|    usa|null| null|\n|     5|  null| 20000|    usa|null| null|\n|     2|  rani| 20000|    usa|null| null|\n|     5|  null| 20000|    usa|null| null|\n|     4|  neha| 12000|    usa|null| null|\n|     4|  neha| 12000|    usa|null| null|\n|     1|manish| 10000|  india|null| null|\n|     1|manish| 10000|  india|null| null|\n|     6| rahul|  null|  india|null| null|\n|     6| rahul|  null|  india|null| null|\n+------+------+------+-------+----+-----+\n\n"
     ]
    }
   ],
   "source": [
    "df.orderBy(df.salary.desc()).show()"
   ]
  },
  {
   "cell_type": "code",
   "execution_count": 0,
   "metadata": {
    "application/vnd.databricks.v1+cell": {
     "cellMetadata": {
      "byteLimit": 2048000,
      "rowLimit": 10000
     },
     "inputWidgets": {},
     "nuid": "fc3cf1a1-c3fb-4382-8560-9b6c8aaca499",
     "showTitle": false,
     "tableResultSettingsMap": {},
     "title": ""
    }
   },
   "outputs": [
    {
     "output_type": "stream",
     "name": "stdout",
     "output_type": "stream",
     "text": [
      "+------+------+------+-------+----+-----+\n|emp_id|  name|salary|address| loc|email|\n+------+------+------+-------+----+-----+\n|     3| rinku| 55000|  india|null| null|\n|     3| rinku| 55000|  india|null| null|\n|     2|  rani| 20000|    usa|null| null|\n|     2|  rani| 20000|    usa|null| null|\n|     6| rahul|  null|  india|null| null|\n|     6| rahul|  null|  india|null| null|\n|     4|  neha| 12000|    usa|null| null|\n|     4|  neha| 12000|    usa|null| null|\n|     1|manish| 10000|  india|null| null|\n|     1|manish| 10000|  india|null| null|\n|     5|  null| 20000|    usa|null| null|\n|     5|  null| 20000|    usa|null| null|\n+------+------+------+-------+----+-----+\n\n"
     ]
    }
   ],
   "source": [
    "df.orderBy(df.name.desc(),df.salary.desc()).show()"
   ]
  },
  {
   "cell_type": "code",
   "execution_count": 0,
   "metadata": {
    "application/vnd.databricks.v1+cell": {
     "cellMetadata": {},
     "inputWidgets": {},
     "nuid": "0ee92a69-f90e-4161-a1ea-7399cb241292",
     "showTitle": false,
     "tableResultSettingsMap": {},
     "title": ""
    }
   },
   "outputs": [],
   "source": []
  }
 ],
 "metadata": {
  "application/vnd.databricks.v1+notebook": {
   "computePreferences": null,
   "dashboards": [],
   "environmentMetadata": {
    "base_environment": "",
    "environment_version": "1"
   },
   "inputWidgetPreferences": null,
   "language": "python",
   "notebookMetadata": {
    "pythonIndentUnit": 4
   },
   "notebookName": "Lab 7 Sort Order by",
   "widgets": {}
  }
 },
 "nbformat": 4,
 "nbformat_minor": 0
}