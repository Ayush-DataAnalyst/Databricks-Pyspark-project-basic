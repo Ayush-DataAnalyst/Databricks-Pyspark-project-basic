{
 "cells": [
  {
   "cell_type": "code",
   "execution_count": 0,
   "metadata": {
    "application/vnd.databricks.v1+cell": {
     "cellMetadata": {
      "byteLimit": 2048000,
      "rowLimit": 10000
     },
     "inputWidgets": {},
     "nuid": "778f78a7-14a0-4bc0-92d3-f4bcc7d6887d",
     "showTitle": false,
     "tableResultSettingsMap": {},
     "title": ""
    }
   },
   "outputs": [
    {
     "output_type": "stream",
     "name": "stdout",
     "output_type": "stream",
     "text": [
      "+---+-----+---------+\n| Id| Name|Loacation|\n+---+-----+---------+\n|  1|Ayush|    india|\n|  2|   Ay|    india|\n|  1|  ush|    india|\n+---+-----+---------+\n\nroot\n |-- Id: integer (nullable = true)\n |-- Name: string (nullable = true)\n |-- Loacation: string (nullable = true)\n\n"
     ]
    }
   ],
   "source": [
    "from pyspark.sql.types import StructField, StructType, IntegerType, StringType\n",
    "data = [(1,'Ayush','india'),(2,'Ay','india'),(1,'ush','india')]\n",
    "\n",
    "schema = StructType([StructField(name= 'Id', dataType= IntegerType()),\n",
    "                    StructField(name= 'Name', dataType= StringType()),\n",
    "                    StructField(name= 'Loacation', dataType= StringType())]\n",
    "                    )\n",
    "\n",
    "# columns = ['Id','Name','Location']\n",
    "df = spark.createDataFrame(data,schema)\n",
    "df.show()\n",
    "df.printSchema()"
   ]
  },
  {
   "cell_type": "code",
   "execution_count": 0,
   "metadata": {
    "application/vnd.databricks.v1+cell": {
     "cellMetadata": {},
     "inputWidgets": {},
     "nuid": "cf8c3fad-ccad-49bc-8ccb-97e5efe80ef9",
     "showTitle": false,
     "tableResultSettingsMap": {},
     "title": ""
    }
   },
   "outputs": [],
   "source": []
  }
 ],
 "metadata": {
  "application/vnd.databricks.v1+notebook": {
   "computePreferences": null,
   "dashboards": [],
   "environmentMetadata": {
    "base_environment": "",
    "environment_version": "1"
   },
   "inputWidgetPreferences": null,
   "language": "python",
   "notebookMetadata": {
    "pythonIndentUnit": 4
   },
   "notebookName": "lab 12  StructType & StructureFeild",
   "widgets": {}
  }
 },
 "nbformat": 4,
 "nbformat_minor": 0
}