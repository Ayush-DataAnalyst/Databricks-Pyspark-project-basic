{
 "cells": [
  {
   "cell_type": "markdown",
   "metadata": {
    "application/vnd.databricks.v1+cell": {
     "cellMetadata": {},
     "inputWidgets": {},
     "nuid": "d08e7d21-5b20-48b5-b168-63799d1396e1",
     "showTitle": false,
     "tableResultSettingsMap": {},
     "title": ""
    }
   },
   "source": [
    "# **INTERVIEW QUESTION**\n",
    "## **WE HAVE 2 TABLE EMPLOYEE AND DEPARTMENT TABLE IS GIVEN**\n",
    "1. WE HAVE TO FIND THE HIGHEST SALARY BASED ON EACH DEPARTMENT NAME\n",
    "2. WE HAVE TO FIND THE EMPLOYEE WHO IS GETTING HIGHEST SALARY BASED ON EACH DEPARTMENT NAME\n",
    "3. WE HAVE TO FIND THE lowest SALARY BASED ON EACH DEPARTMENT NAME\n",
    "4. WE HAVE TO FIND THE EMPLOYEE WHO IS GETTING lowest SALARY BASED ON EACH DEPARTMENT NAME\n",
    "\n",
    "**SOLVE USING PYSPARK AND SPARK SQL**"
   ]
  },
  {
   "cell_type": "code",
   "execution_count": 0,
   "metadata": {
    "application/vnd.databricks.v1+cell": {
     "cellMetadata": {
      "byteLimit": 2048000,
      "rowLimit": 10000
     },
     "inputWidgets": {},
     "nuid": "b2bf9fd1-d53a-403b-85ed-06992f5ee7ca",
     "showTitle": false,
     "tableResultSettingsMap": {},
     "title": ""
    }
   },
   "outputs": [
    {
     "output_type": "stream",
     "name": "stdout",
     "output_type": "stream",
     "text": [
      "+--------+-------+------+\n|emp_name|dept_id|salary|\n+--------+-------+------+\n|  Manish|      1| 75000|\n|  Raghav|      1| 85000|\n|   surya|      1| 80000|\n|   virat|      2| 70000|\n|   rohit|      2| 75000|\n|  jadeja|      3| 85000|\n|    anil|      3| 55000|\n|  sachin|      3| 55000|\n|   zahir|      4| 60000|\n|  bumrah|      4| 65000|\n+--------+-------+------+\n\n+-------+-------------+\n|dept_id|    dept_name|\n+-------+-------------+\n|      1|DATA ENGINEER|\n|      2|        SALES|\n|      3|     SOFTWARE|\n|      4|           HR|\n+-------+-------------+\n\n"
     ]
    }
   ],
   "source": [
    "emp_data=[('Manish' , 1 , 75000),\n",
    "('Raghav' , 1 , 85000 ),\n",
    "('surya' , 1 , 80000 ),\n",
    "('virat' , 2 , 70000),\n",
    "('rohit' , 2 , 75000),\n",
    "('jadeja' , 3 , 85000),\n",
    "('anil' , 3 , 55000),\n",
    "('sachin' , 3 , 55000),  \n",
    "('zahir', 4, 60000),\n",
    "('bumrah' , 4 , 65000) ]\n",
    "schema= [\"emp_name\" ,\"dept_id\" ,\"salary\"]\n",
    "\n",
    "emp_df=spark.createDataFrame(emp_data,schema)\n",
    "emp_df.show()\n",
    "\n",
    "dept_data = [(1, 'DATA ENGINEER'),(2, 'SALES'),(3, 'SOFTWARE'),(4, 'HR')]\n",
    "schema1=['dept_id','dept_name']\n",
    "\n",
    "dept_df=spark.createDataFrame(dept_data,schema1)\n",
    "dept_df.show()\n"
   ]
  },
  {
   "cell_type": "code",
   "execution_count": 0,
   "metadata": {
    "application/vnd.databricks.v1+cell": {
     "cellMetadata": {
      "byteLimit": 2048000,
      "rowLimit": 10000
     },
     "inputWidgets": {},
     "nuid": "09333296-72ca-450f-a8ae-0934bfd5f2b7",
     "showTitle": false,
     "tableResultSettingsMap": {},
     "title": ""
    }
   },
   "outputs": [
    {
     "output_type": "stream",
     "name": "stdout",
     "output_type": "stream",
     "text": [
      "+--------+-------+------+-------+-------------+\n|emp_name|dept_id|salary|dept_id|    dept_name|\n+--------+-------+------+-------+-------------+\n|  Manish|      1| 75000|      1|DATA ENGINEER|\n|  Raghav|      1| 85000|      1|DATA ENGINEER|\n|   surya|      1| 80000|      1|DATA ENGINEER|\n|   virat|      2| 70000|      2|        SALES|\n|   rohit|      2| 75000|      2|        SALES|\n|  jadeja|      3| 85000|      3|     SOFTWARE|\n|    anil|      3| 55000|      3|     SOFTWARE|\n|  sachin|      3| 55000|      3|     SOFTWARE|\n|   zahir|      4| 60000|      4|           HR|\n|  bumrah|      4| 65000|      4|           HR|\n+--------+-------+------+-------+-------------+\n\n"
     ]
    }
   ],
   "source": [
    "emp_df.join(dept_df,emp_df.dept_id==dept_df.dept_id,'left').show()"
   ]
  },
  {
   "cell_type": "code",
   "execution_count": 0,
   "metadata": {
    "application/vnd.databricks.v1+cell": {
     "cellMetadata": {
      "byteLimit": 2048000,
      "rowLimit": 10000
     },
     "inputWidgets": {},
     "nuid": "08ba1fd2-b66f-48db-8cec-9f5210773244",
     "showTitle": true,
     "tableResultSettingsMap": {},
     "title": "WE HAVE TO FIND THE HIGHEST SALARY BASED ON EACH DEPARTMENT NAME"
    }
   },
   "outputs": [
    {
     "output_type": "stream",
     "name": "stdout",
     "output_type": "stream",
     "text": [
      "+-------------+-------+\n|    dept_name|max_sal|\n+-------------+-------+\n|DATA ENGINEER|  85000|\n|        SALES|  75000|\n|     SOFTWARE|  85000|\n|           HR|  65000|\n+-------------+-------+\n\n"
     ]
    }
   ],
   "source": [
    "from pyspark.sql.functions import *\n",
    "df = emp_df.join(dept_df,emp_df.dept_id==dept_df.dept_id,'left')\n",
    "df.groupBy(\"dept_name\").agg(max(\"salary\").alias('max_sal')).show()"
   ]
  },
  {
   "cell_type": "code",
   "execution_count": 0,
   "metadata": {
    "application/vnd.databricks.v1+cell": {
     "cellMetadata": {
      "byteLimit": 2048000,
      "rowLimit": 10000
     },
     "inputWidgets": {},
     "nuid": "820fb3f6-7dab-4c89-ab24-78d49640ddeb",
     "showTitle": false,
     "tableResultSettingsMap": {},
     "title": ""
    }
   },
   "outputs": [
    {
     "output_type": "stream",
     "name": "stdout",
     "output_type": "stream",
     "text": [
      "+-------------+-------+\n|    dept_name|max_sal|\n+-------------+-------+\n|DATA ENGINEER|  85000|\n|        SALES|  75000|\n|     SOFTWARE|  85000|\n|           HR|  65000|\n+-------------+-------+\n\n"
     ]
    }
   ],
   "source": [
    "df1 = df.groupBy(\"dept_name\").agg(max(\"salary\").alias('max_sal'))\n",
    "df1.show()"
   ]
  },
  {
   "cell_type": "code",
   "execution_count": 0,
   "metadata": {
    "application/vnd.databricks.v1+cell": {
     "cellMetadata": {
      "byteLimit": 2048000,
      "rowLimit": 10000
     },
     "inputWidgets": {},
     "nuid": "2035798d-294a-4bd1-b094-cb1acc40e6ce",
     "showTitle": true,
     "tableResultSettingsMap": {},
     "title": "WE HAVE TO FIND THE EMPLOYEE WHO IS GETTING HIGHEST SALARY BASED ON EACH DEPARTMENT NAME"
    }
   },
   "outputs": [],
   "source": [
    "df2 = df.join(df1,df.dept_name==df1.dept_name,'left')"
   ]
  },
  {
   "cell_type": "code",
   "execution_count": 0,
   "metadata": {
    "application/vnd.databricks.v1+cell": {
     "cellMetadata": {
      "byteLimit": 2048000,
      "rowLimit": 10000
     },
     "inputWidgets": {},
     "nuid": "719fb190-151a-46ff-9e2e-b20a37efab2f",
     "showTitle": false,
     "tableResultSettingsMap": {},
     "title": ""
    }
   },
   "outputs": [
    {
     "output_type": "stream",
     "name": "stdout",
     "output_type": "stream",
     "text": [
      "+--------+-------+------+-------+-------------+-------------+-------+\n|emp_name|dept_id|salary|dept_id|    dept_name|    dept_name|max_sal|\n+--------+-------+------+-------+-------------+-------------+-------+\n|  Raghav|      1| 85000|      1|DATA ENGINEER|DATA ENGINEER|  85000|\n|   rohit|      2| 75000|      2|        SALES|        SALES|  75000|\n|  jadeja|      3| 85000|      3|     SOFTWARE|     SOFTWARE|  85000|\n|  bumrah|      4| 65000|      4|           HR|           HR|  65000|\n+--------+-------+------+-------+-------------+-------------+-------+\n\n"
     ]
    }
   ],
   "source": [
    "df2.filter(col('salary')==col('max_sal')).show()"
   ]
  },
  {
   "cell_type": "code",
   "execution_count": 0,
   "metadata": {
    "application/vnd.databricks.v1+cell": {
     "cellMetadata": {
      "byteLimit": 2048000,
      "rowLimit": 10000
     },
     "inputWidgets": {},
     "nuid": "bb2d9127-ffb5-4fc7-a7dc-137edbd3ad50",
     "showTitle": true,
     "tableResultSettingsMap": {},
     "title": "WE HAVE TO FIND THE lowest SALARY BASED ON EACH DEPARTMENT NAME"
    }
   },
   "outputs": [
    {
     "output_type": "stream",
     "name": "stdout",
     "output_type": "stream",
     "text": [
      "+-------------+-------+\n|    dept_name|min_sal|\n+-------------+-------+\n|DATA ENGINEER|  75000|\n|        SALES|  70000|\n|     SOFTWARE|  55000|\n|           HR|  60000|\n+-------------+-------+\n\n"
     ]
    }
   ],
   "source": [
    "from pyspark.sql.functions import *\n",
    "df5 = emp_df.join(dept_df,emp_df.dept_id==dept_df.dept_id,'left')\n",
    "df.groupBy(\"dept_name\").agg(min(\"salary\").alias('min_sal')).show()"
   ]
  },
  {
   "cell_type": "code",
   "execution_count": 0,
   "metadata": {
    "application/vnd.databricks.v1+cell": {
     "cellMetadata": {
      "byteLimit": 2048000,
      "rowLimit": 10000
     },
     "inputWidgets": {},
     "nuid": "b52f9068-568c-499b-9b46-e46660d38fe0",
     "showTitle": false,
     "tableResultSettingsMap": {},
     "title": ""
    }
   },
   "outputs": [
    {
     "output_type": "stream",
     "name": "stdout",
     "output_type": "stream",
     "text": [
      "+-------------+-------+\n|    dept_name|min_sal|\n+-------------+-------+\n|DATA ENGINEER|  75000|\n|        SALES|  70000|\n|     SOFTWARE|  55000|\n|           HR|  60000|\n+-------------+-------+\n\n"
     ]
    }
   ],
   "source": [
    "df6 = df.groupBy(\"dept_name\").agg(min(\"salary\").alias('min_sal'))\n",
    "df6.show()"
   ]
  },
  {
   "cell_type": "code",
   "execution_count": 0,
   "metadata": {
    "application/vnd.databricks.v1+cell": {
     "cellMetadata": {
      "byteLimit": 2048000,
      "rowLimit": 10000
     },
     "inputWidgets": {},
     "nuid": "1a6d07ea-2aec-44f2-8024-fd004667c5d4",
     "showTitle": true,
     "tableResultSettingsMap": {},
     "title": "WE HAVE TO FIND THE EMPLOYEE WHO IS GETTING lowest SALARY BASED ON EACH DEPARTMENT NAME"
    }
   },
   "outputs": [],
   "source": [
    "df7 = df.join(df6,df.dept_name==df1.dept_name,'left')"
   ]
  },
  {
   "cell_type": "code",
   "execution_count": 0,
   "metadata": {
    "application/vnd.databricks.v1+cell": {
     "cellMetadata": {
      "byteLimit": 2048000,
      "rowLimit": 10000
     },
     "inputWidgets": {},
     "nuid": "7b1ff361-ec01-46c8-936e-71481cdd391e",
     "showTitle": false,
     "tableResultSettingsMap": {},
     "title": ""
    }
   },
   "outputs": [
    {
     "output_type": "stream",
     "name": "stdout",
     "output_type": "stream",
     "text": [
      "+--------+-------+------+-------+-------------+-------------+-------+\n|emp_name|dept_id|salary|dept_id|    dept_name|    dept_name|min_sal|\n+--------+-------+------+-------+-------------+-------------+-------+\n|  Manish|      1| 75000|      1|DATA ENGINEER|DATA ENGINEER|  75000|\n|   virat|      2| 70000|      2|        SALES|        SALES|  70000|\n|    anil|      3| 55000|      3|     SOFTWARE|     SOFTWARE|  55000|\n|  sachin|      3| 55000|      3|     SOFTWARE|     SOFTWARE|  55000|\n|   zahir|      4| 60000|      4|           HR|           HR|  60000|\n+--------+-------+------+-------+-------------+-------------+-------+\n\n"
     ]
    }
   ],
   "source": [
    "df7.filter(col('salary')==col('min_sal')).show()"
   ]
  },
  {
   "cell_type": "code",
   "execution_count": 0,
   "metadata": {
    "application/vnd.databricks.v1+cell": {
     "cellMetadata": {},
     "inputWidgets": {},
     "nuid": "eaa26272-beb1-4e3c-a359-d8186239e894",
     "showTitle": false,
     "tableResultSettingsMap": {},
     "title": ""
    }
   },
   "outputs": [],
   "source": []
  }
 ],
 "metadata": {
  "application/vnd.databricks.v1+notebook": {
   "computePreferences": null,
   "dashboards": [],
   "environmentMetadata": {
    "base_environment": "",
    "environment_version": "1"
   },
   "inputWidgetPreferences": null,
   "language": "python",
   "notebookMetadata": {
    "pythonIndentUnit": 4
   },
   "notebookName": "Lab 24 Interview Question",
   "widgets": {}
  }
 },
 "nbformat": 4,
 "nbformat_minor": 0
}