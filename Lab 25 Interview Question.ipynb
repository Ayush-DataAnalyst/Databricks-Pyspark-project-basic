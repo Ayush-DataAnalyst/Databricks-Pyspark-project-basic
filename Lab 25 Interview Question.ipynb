{
 "cells": [
  {
   "cell_type": "markdown",
   "metadata": {
    "application/vnd.databricks.v1+cell": {
     "cellMetadata": {},
     "inputWidgets": {},
     "nuid": "2c056845-273c-4e79-afb9-0304974c6b09",
     "showTitle": false,
     "tableResultSettingsMap": {},
     "title": ""
    }
   },
   "source": [
    "# **INTERVIEW QUESTION**\n",
    "## 2 question\n",
    "1. WE HAVE TO flatten data from 1 row to multiple row eg . [1,2,3] we need to convert into row wise flattening\n",
    "2. WE HAVE TO FIND OUT device pinged or not\n",
    "\n",
    "**SOLVE USING PYSPARK AND SPARK SQL**\n"
   ]
  },
  {
   "cell_type": "code",
   "execution_count": 0,
   "metadata": {
    "application/vnd.databricks.v1+cell": {
     "cellMetadata": {
      "byteLimit": 2048000,
      "rowLimit": 10000
     },
     "inputWidgets": {},
     "nuid": "bb8f4f43-ce2b-4ad6-8f0c-398666dfc382",
     "showTitle": true,
     "tableResultSettingsMap": {},
     "title": "flatten data from 1 row to multiple row eg . [1,2,3]"
    }
   },
   "outputs": [
    {
     "output_type": "stream",
     "name": "stdout",
     "output_type": "stream",
     "text": [
      "+-----------+-------+\n|customer_id|product|\n+-----------+-------+\n|          1| mobile|\n|          1|     PC|\n|          1|    Tab|\n|          2| mobile|\n|          2|     PC|\n|          3|    Tab|\n|          3|    Pen|\n+-----------+-------+\n\n"
     ]
    }
   ],
   "source": [
    "from pyspark.sql.functions import * \n",
    "data = [(1,['mobile','PC','Tab']),(2,['mobile','PC']),(3,['Tab','Pen'])]\n",
    "schema=['customer_id','product_purchase']\n",
    "\n",
    "df = spark.createDataFrame(data,schema)\n",
    "df.withColumn('product',explode('product_purchase')).select('customer_id','product').show()\n",
    "# df.show()"
   ]
  },
  {
   "cell_type": "code",
   "execution_count": 0,
   "metadata": {
    "application/vnd.databricks.v1+cell": {
     "cellMetadata": {
      "byteLimit": 2048000,
      "rowLimit": 10000
     },
     "inputWidgets": {},
     "nuid": "81abcaf7-f280-4c1e-abae-b897eb13a814",
     "showTitle": true,
     "tableResultSettingsMap": {},
     "title": "WE HAVE TO FIND OUT device pinged or not"
    }
   },
   "outputs": [
    {
     "output_type": "stream",
     "name": "stdout",
     "output_type": "stream",
     "text": [
      "+-----------+-------------+-------------+-------------+---+\n|customer_id|device_using1|device_using2|device_using3|new|\n+-----------+-------------+-------------+-------------+---+\n|          1|          yes|         null|         null|yes|\n|          2|         null|          yes|         null|yes|\n|          3|           No|         null|          yes| No|\n+-----------+-------------+-------------+-------------+---+\n\n"
     ]
    }
   ],
   "source": [
    "data=[(1, 'yes',None,None),(2, None,'yes',None),(3, 'No',None,'yes')]\n",
    "schema=['customer_id','device_using1','device_using2','device_using3']\n",
    "\n",
    "df1 = spark.createDataFrame(data,schema)\n",
    "df1.withColumn('new',coalesce(col('device_using1'),col('device_using2'),col('device_using3'))).show()\n",
    "# df1.show()"
   ]
  },
  {
   "cell_type": "code",
   "execution_count": 0,
   "metadata": {
    "application/vnd.databricks.v1+cell": {
     "cellMetadata": {},
     "inputWidgets": {},
     "nuid": "8782fc2a-0fdb-403a-8dee-820684c11ad1",
     "showTitle": false,
     "tableResultSettingsMap": {},
     "title": ""
    }
   },
   "outputs": [],
   "source": []
  }
 ],
 "metadata": {
  "application/vnd.databricks.v1+notebook": {
   "computePreferences": null,
   "dashboards": [],
   "environmentMetadata": {
    "base_environment": "",
    "environment_version": "1"
   },
   "inputWidgetPreferences": null,
   "language": "python",
   "notebookMetadata": {
    "pythonIndentUnit": 4
   },
   "notebookName": "Lab 25 Interview Question",
   "widgets": {}
  }
 },
 "nbformat": 4,
 "nbformat_minor": 0
}