{
 "cells": [
  {
   "cell_type": "code",
   "execution_count": 0,
   "metadata": {
    "application/vnd.databricks.v1+cell": {
     "cellMetadata": {
      "byteLimit": 2048000,
      "rowLimit": 10000
     },
     "inputWidgets": {},
     "nuid": "0ef83800-5a7a-4484-a834-514908f9bf82",
     "showTitle": false,
     "tableResultSettingsMap": {},
     "title": ""
    }
   },
   "outputs": [
    {
     "output_type": "stream",
     "name": "stdout",
     "output_type": "stream",
     "text": [
      "+----------+--------------------+\n|  date_col|       timestamp_col|\n+----------+--------------------+\n|2022-03-15|2022-03-16 12:34:...|\n|2022-03-01|2022-03-16 01:23:...|\n+----------+--------------------+\n\n"
     ]
    }
   ],
   "source": [
    "data = [(\"2022-03-15\", \"2022-03-16 12:34:56.789\"), \n",
    "        (\"2022-03-01\", \"2022-03-16 01:23:45.678\")]\n",
    "df = spark.createDataFrame(data, [\"date_col\", \"timestamp_col\"])\n",
    "df.show()"
   ]
  },
  {
   "cell_type": "code",
   "execution_count": 0,
   "metadata": {
    "application/vnd.databricks.v1+cell": {
     "cellMetadata": {
      "byteLimit": 2048000,
      "rowLimit": 10000
     },
     "inputWidgets": {},
     "nuid": "64737508-0efd-456c-b0b7-68e13d14cae4",
     "showTitle": false,
     "tableResultSettingsMap": {},
     "title": ""
    }
   },
   "outputs": [
    {
     "output_type": "stream",
     "name": "stdout",
     "output_type": "stream",
     "text": [
      "+----------+----------+\n|  date_col|      date|\n+----------+----------+\n|2022-03-15|2022/03/15|\n|2022-03-01|2022/03/01|\n+----------+----------+\n\n"
     ]
    }
   ],
   "source": [
    "from pyspark.sql.functions import *\n",
    "\n",
    "df.select(\"date_col\",date_format(\"date_col\",\"yyyy/MM/dd\").alias(\"date\")).show()"
   ]
  },
  {
   "cell_type": "code",
   "execution_count": 0,
   "metadata": {
    "application/vnd.databricks.v1+cell": {
     "cellMetadata": {
      "byteLimit": 2048000,
      "rowLimit": 10000
     },
     "inputWidgets": {},
     "nuid": "a6b464c2-1d4f-49fb-b540-68b91f7d6e5a",
     "showTitle": false,
     "tableResultSettingsMap": {},
     "title": ""
    }
   },
   "outputs": [
    {
     "output_type": "stream",
     "name": "stdout",
     "output_type": "stream",
     "text": [
      "+----------+-------------+\n|  date_col|         date|\n+----------+-------------+\n|2022-03-15|2022/March/15|\n|2022-03-01|2022/March/01|\n+----------+-------------+\n\n"
     ]
    }
   ],
   "source": [
    "df.select(\"date_col\",date_format(\"date_col\",\"yyyy/MMMM/dd\").alias(\"date\")).show()"
   ]
  },
  {
   "cell_type": "code",
   "execution_count": 0,
   "metadata": {
    "application/vnd.databricks.v1+cell": {
     "cellMetadata": {},
     "inputWidgets": {},
     "nuid": "47f78c63-3a30-4b18-b70f-4b4c720acdd5",
     "showTitle": false,
     "tableResultSettingsMap": {},
     "title": ""
    }
   },
   "outputs": [],
   "source": []
  }
 ],
 "metadata": {
  "application/vnd.databricks.v1+notebook": {
   "computePreferences": null,
   "dashboards": [],
   "environmentMetadata": {
    "base_environment": "",
    "environment_version": "1"
   },
   "inputWidgetPreferences": null,
   "language": "python",
   "notebookMetadata": {
    "pythonIndentUnit": 4
   },
   "notebookName": "Lab 18 Date_format",
   "widgets": {}
  }
 },
 "nbformat": 4,
 "nbformat_minor": 0
}