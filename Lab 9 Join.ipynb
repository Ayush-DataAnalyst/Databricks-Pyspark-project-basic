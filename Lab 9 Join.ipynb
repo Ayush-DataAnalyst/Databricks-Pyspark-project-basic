{
 "cells": [
  {
   "cell_type": "markdown",
   "metadata": {
    "application/vnd.databricks.v1+cell": {
     "cellMetadata": {},
     "inputWidgets": {},
     "nuid": "fd05ae46-e6cc-4a6e-a310-c5b0cfa8ba6f",
     "showTitle": false,
     "tableResultSettingsMap": {},
     "title": ""
    }
   },
   "source": [
    "/FileStore/tables/department.csv\n",
    "/FileStore/tables/employee.csv\n"
   ]
  },
  {
   "cell_type": "markdown",
   "metadata": {
    "application/vnd.databricks.v1+cell": {
     "cellMetadata": {},
     "inputWidgets": {},
     "nuid": "a1d9ae45-70d0-4be4-9a2c-712c3ffb00cf",
     "showTitle": false,
     "tableResultSettingsMap": {},
     "title": ""
    }
   },
   "source": [
    "/FileStore/tables/department_1-1.csv"
   ]
  },
  {
   "cell_type": "markdown",
   "metadata": {
    "application/vnd.databricks.v1+cell": {
     "cellMetadata": {},
     "inputWidgets": {},
     "nuid": "7e28f2f9-ed4f-4125-9f5a-e1fa5ba5273e",
     "showTitle": false,
     "tableResultSettingsMap": {},
     "title": ""
    }
   },
   "source": [
    "/FileStore/tables/department_1.csv"
   ]
  },
  {
   "cell_type": "code",
   "execution_count": 0,
   "metadata": {
    "application/vnd.databricks.v1+cell": {
     "cellMetadata": {
      "byteLimit": 2048000,
      "rowLimit": 10000
     },
     "inputWidgets": {},
     "nuid": "762bbf7b-d97b-4b70-b55a-71e02eb8f68b",
     "showTitle": false,
     "tableResultSettingsMap": {},
     "title": ""
    }
   },
   "outputs": [
    {
     "output_type": "stream",
     "name": "stdout",
     "output_type": "stream",
     "text": [
      "+------+------+------+-----+\n|emp_id|  name|salary|  loc|\n+------+------+------+-----+\n|     1|manish| 20000|india|\n|     2|  hari|  5000|   UK|\n|     3| rahul| 10000|india|\n|     4|   nil| 20000|india|\n|     5|   sil| 24000|   UK|\n|     6|  neha| 17000|   UK|\n+------+------+------+-----+\n\n"
     ]
    }
   ],
   "source": [
    "emp_df=spark.read.csv(\"/FileStore/tables/employee.csv\",header=True,inferSchema=True)\n",
    "emp_df.show()"
   ]
  },
  {
   "cell_type": "code",
   "execution_count": 0,
   "metadata": {
    "application/vnd.databricks.v1+cell": {
     "cellMetadata": {
      "byteLimit": 2048000,
      "rowLimit": 10000
     },
     "inputWidgets": {},
     "nuid": "8446fe21-3084-4981-8eb5-28ebdbcfbb03",
     "showTitle": false,
     "tableResultSettingsMap": {},
     "title": ""
    }
   },
   "outputs": [
    {
     "output_type": "stream",
     "name": "stdout",
     "output_type": "stream",
     "text": [
      "+----+----------+------------+\n|user|department| designation|\n+----+----------+------------+\n|   1|        it|   software |\n|   2|     sales|data analyst|\n|   3|     other|     trainer|\n|   4|        it|data analyst|\n|   7|     sales|   marketing|\n|   8|        it|data analyst|\n+----+----------+------------+\n\n"
     ]
    }
   ],
   "source": [
    "dept_df=spark.read.csv(\"/FileStore/tables/department_1-1.csv\",header=True,inferSchema=True)\n",
    "dept_df.show()"
   ]
  },
  {
   "cell_type": "code",
   "execution_count": 0,
   "metadata": {
    "application/vnd.databricks.v1+cell": {
     "cellMetadata": {
      "byteLimit": 2048000,
      "rowLimit": 10000
     },
     "inputWidgets": {},
     "nuid": "b5fde92e-6c64-4df7-af5c-e468f5fadfec",
     "showTitle": true,
     "tableResultSettingsMap": {},
     "title": "Inner Join"
    }
   },
   "outputs": [
    {
     "output_type": "stream",
     "name": "stdout",
     "output_type": "stream",
     "text": [
      "+------+------+------+-----+----+----------+------------+\n|emp_id|  name|salary|  loc|user|department| designation|\n+------+------+------+-----+----+----------+------------+\n|     1|manish| 20000|india|   1|        it|   software |\n|     2|  hari|  5000|   UK|   2|     sales|data analyst|\n|     3| rahul| 10000|india|   3|     other|     trainer|\n|     4|   nil| 20000|india|   4|        it|data analyst|\n+------+------+------+-----+----+----------+------------+\n\n"
     ]
    }
   ],
   "source": [
    "emp_df.join(dept_df,emp_df.emp_id==dept_df.user,\"inner\").show()"
   ]
  },
  {
   "cell_type": "code",
   "execution_count": 0,
   "metadata": {
    "application/vnd.databricks.v1+cell": {
     "cellMetadata": {
      "byteLimit": 2048000,
      "rowLimit": 10000
     },
     "inputWidgets": {},
     "nuid": "3d1e124e-8ebb-4e01-975e-4167a5919e49",
     "showTitle": false,
     "tableResultSettingsMap": {},
     "title": ""
    }
   },
   "outputs": [
    {
     "output_type": "stream",
     "name": "stdout",
     "output_type": "stream",
     "text": [
      "+------+------+------+-----+----+----------+------------+\n|emp_id|  name|salary|  loc|user|department| designation|\n+------+------+------+-----+----+----------+------------+\n|     1|manish| 20000|india|   1|        it|   software |\n|     2|  hari|  5000|   UK|   2|     sales|data analyst|\n|     3| rahul| 10000|india|   3|     other|     trainer|\n|     4|   nil| 20000|india|   4|        it|data analyst|\n|     5|   sil| 24000|   UK|null|      null|        null|\n|     6|  neha| 17000|   UK|null|      null|        null|\n+------+------+------+-----+----+----------+------------+\n\n"
     ]
    }
   ],
   "source": [
    "emp_df.join(dept_df,emp_df.emp_id==dept_df.user,'left').show()"
   ]
  },
  {
   "cell_type": "code",
   "execution_count": 0,
   "metadata": {
    "application/vnd.databricks.v1+cell": {
     "cellMetadata": {
      "byteLimit": 2048000,
      "rowLimit": 10000
     },
     "inputWidgets": {},
     "nuid": "bf4b3561-5e6d-4fd1-94bc-f811b5a7153b",
     "showTitle": false,
     "tableResultSettingsMap": {},
     "title": ""
    }
   },
   "outputs": [
    {
     "output_type": "stream",
     "name": "stdout",
     "output_type": "stream",
     "text": [
      "+------+------+------+-----+----+----------+------------+\n|emp_id|  name|salary|  loc|user|department| designation|\n+------+------+------+-----+----+----------+------------+\n|     1|manish| 20000|india|   1|        it|   software |\n|     2|  hari|  5000|   UK|   2|     sales|data analyst|\n|     3| rahul| 10000|india|   3|     other|     trainer|\n|     4|   nil| 20000|india|   4|        it|data analyst|\n|  null|  null|  null| null|   7|     sales|   marketing|\n|  null|  null|  null| null|   8|        it|data analyst|\n+------+------+------+-----+----+----------+------------+\n\n"
     ]
    }
   ],
   "source": [
    "emp_df.join(dept_df,emp_df.emp_id==dept_df.user,'right').show()"
   ]
  },
  {
   "cell_type": "code",
   "execution_count": 0,
   "metadata": {
    "application/vnd.databricks.v1+cell": {
     "cellMetadata": {
      "byteLimit": 2048000,
      "rowLimit": 10000
     },
     "inputWidgets": {},
     "nuid": "973ce899-85d7-44ab-8a4c-b6be37093ed4",
     "showTitle": false,
     "tableResultSettingsMap": {},
     "title": ""
    }
   },
   "outputs": [
    {
     "output_type": "stream",
     "name": "stdout",
     "output_type": "stream",
     "text": [
      "+------+------+------+-----+----+----------+------------+\n|emp_id|  name|salary|  loc|user|department| designation|\n+------+------+------+-----+----+----------+------------+\n|     1|manish| 20000|india|   1|        it|   software |\n|     2|  hari|  5000|   UK|   2|     sales|data analyst|\n|     3| rahul| 10000|india|   3|     other|     trainer|\n|     4|   nil| 20000|india|   4|        it|data analyst|\n|     5|   sil| 24000|   UK|null|      null|        null|\n|     6|  neha| 17000|   UK|null|      null|        null|\n|  null|  null|  null| null|   7|     sales|   marketing|\n|  null|  null|  null| null|   8|        it|data analyst|\n+------+------+------+-----+----+----------+------------+\n\n"
     ]
    }
   ],
   "source": [
    "emp_df.join(dept_df,emp_df.emp_id==dept_df.user,'fullouter').show()"
   ]
  },
  {
   "cell_type": "code",
   "execution_count": 0,
   "metadata": {
    "application/vnd.databricks.v1+cell": {
     "cellMetadata": {
      "byteLimit": 2048000,
      "rowLimit": 10000
     },
     "inputWidgets": {},
     "nuid": "8d839eca-1259-4a19-b11d-aea99faa0466",
     "showTitle": false,
     "tableResultSettingsMap": {},
     "title": ""
    }
   },
   "outputs": [
    {
     "output_type": "stream",
     "name": "stdout",
     "output_type": "stream",
     "text": [
      "+------+------+------+-----+\n|emp_id|  name|salary|  loc|\n+------+------+------+-----+\n|     1|manish| 20000|india|\n|     2|  hari|  5000|   UK|\n|     3| rahul| 10000|india|\n|     4|   nil| 20000|india|\n+------+------+------+-----+\n\n"
     ]
    }
   ],
   "source": [
    "emp_df.join(dept_df,emp_df.emp_id==dept_df.user,'leftsemi').show()"
   ]
  },
  {
   "cell_type": "code",
   "execution_count": 0,
   "metadata": {
    "application/vnd.databricks.v1+cell": {
     "cellMetadata": {
      "byteLimit": 2048000,
      "rowLimit": 10000
     },
     "inputWidgets": {},
     "nuid": "5d817109-5c8a-4033-96f9-edc69ee8405c",
     "showTitle": false,
     "tableResultSettingsMap": {},
     "title": ""
    }
   },
   "outputs": [
    {
     "output_type": "stream",
     "name": "stdout",
     "output_type": "stream",
     "text": [
      "+------+----+------+---+\n|emp_id|name|salary|loc|\n+------+----+------+---+\n|     5| sil| 24000| UK|\n|     6|neha| 17000| UK|\n+------+----+------+---+\n\n"
     ]
    }
   ],
   "source": [
    "emp_df.join(dept_df,emp_df.emp_id==dept_df.user,'leftanti').show()"
   ]
  },
  {
   "cell_type": "code",
   "execution_count": 0,
   "metadata": {
    "application/vnd.databricks.v1+cell": {
     "cellMetadata": {
      "byteLimit": 2048000,
      "rowLimit": 10000
     },
     "inputWidgets": {},
     "nuid": "fbcdc716-69bc-4a50-9af0-3d52cf188ccc",
     "showTitle": false,
     "tableResultSettingsMap": {},
     "title": ""
    }
   },
   "outputs": [
    {
     "output_type": "stream",
     "name": "stdout",
     "output_type": "stream",
     "text": [
      "+----+----------+------------+\n|user|department| designation|\n+----+----------+------------+\n|   7|     sales|   marketing|\n|   8|        it|data analyst|\n+----+----------+------------+\n\n"
     ]
    }
   ],
   "source": [
    "dept_df.join(emp_df,dept_df.user==emp_df.emp_id,'Anti').show()"
   ]
  },
  {
   "cell_type": "code",
   "execution_count": 0,
   "metadata": {
    "application/vnd.databricks.v1+cell": {
     "cellMetadata": {},
     "inputWidgets": {},
     "nuid": "db040373-09e8-44e6-a4b6-7bc7cc876da4",
     "showTitle": false,
     "tableResultSettingsMap": {},
     "title": ""
    }
   },
   "outputs": [],
   "source": []
  }
 ],
 "metadata": {
  "application/vnd.databricks.v1+notebook": {
   "computePreferences": null,
   "dashboards": [],
   "environmentMetadata": {
    "base_environment": "",
    "environment_version": "1"
   },
   "inputWidgetPreferences": null,
   "language": "python",
   "notebookMetadata": {
    "pythonIndentUnit": 4
   },
   "notebookName": "Lab 9 Join",
   "widgets": {}
  }
 },
 "nbformat": 4,
 "nbformat_minor": 0
}