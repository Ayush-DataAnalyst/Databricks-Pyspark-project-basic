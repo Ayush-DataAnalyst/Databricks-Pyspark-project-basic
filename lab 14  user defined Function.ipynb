{
 "cells": [
  {
   "cell_type": "code",
   "execution_count": 0,
   "metadata": {
    "application/vnd.databricks.v1+cell": {
     "cellMetadata": {
      "byteLimit": 2048000,
      "rowLimit": 10000
     },
     "inputWidgets": {},
     "nuid": "af9df97c-bc44-4e12-9b22-c055fca7d724",
     "showTitle": false,
     "tableResultSettingsMap": {},
     "title": ""
    }
   },
   "outputs": [
    {
     "output_type": "stream",
     "name": "stdout",
     "output_type": "stream",
     "text": [
      "+---------+-------+\n|dept_name|dept_id|\n+---------+-------+\n|  Finance|     10|\n|Marketing|     20|\n|    Sales|     30|\n|       IT|     40|\n+---------+-------+\n\n"
     ]
    }
   ],
   "source": [
    "data = [(\"Finance\",10), \\\n",
    "        (\"Marketing\",20), \\\n",
    "        (\"Sales\",30), \\\n",
    "        (\"IT\",40) \\\n",
    "        ]\n",
    "columns = [\"dept_name\",\"dept_id\"]\n",
    "\n",
    "df = spark.createDataFrame(data,columns)\n",
    "df.show()"
   ]
  },
  {
   "cell_type": "code",
   "execution_count": 0,
   "metadata": {
    "application/vnd.databricks.v1+cell": {
     "cellMetadata": {
      "byteLimit": 2048000,
      "rowLimit": 10000
     },
     "inputWidgets": {},
     "nuid": "8b25dbb8-a742-47a8-82a8-c5525b8c189d",
     "showTitle": false,
     "tableResultSettingsMap": {},
     "title": ""
    }
   },
   "outputs": [],
   "source": [
    "from pyspark.sql.types import LongType\n",
    "def addone(a):\n",
    "    return a + 1\n",
    "addone_df=udf(addone,LongType())"
   ]
  },
  {
   "cell_type": "code",
   "execution_count": 0,
   "metadata": {
    "application/vnd.databricks.v1+cell": {
     "cellMetadata": {
      "byteLimit": 2048000,
      "rowLimit": 10000
     },
     "inputWidgets": {},
     "nuid": "08ebb069-b4ab-4ee5-9497-44c694d5e301",
     "showTitle": false,
     "tableResultSettingsMap": {},
     "title": ""
    }
   },
   "outputs": [
    {
     "output_type": "stream",
     "name": "stdout",
     "output_type": "stream",
     "text": [
      "+---------+-------+---------------+\n|dept_name|dept_id|addone(dept_id)|\n+---------+-------+---------------+\n|  Finance|     10|             11|\n|Marketing|     20|             21|\n|    Sales|     30|             31|\n|       IT|     40|             41|\n+---------+-------+---------------+\n\n"
     ]
    }
   ],
   "source": [
    "df.select(\"dept_name\",\"dept_id\",addone_df(\"dept_id\")).show()"
   ]
  },
  {
   "cell_type": "code",
   "execution_count": 0,
   "metadata": {
    "application/vnd.databricks.v1+cell": {
     "cellMetadata": {},
     "inputWidgets": {},
     "nuid": "a73bca52-e266-4058-ac9f-c65adc93e6b9",
     "showTitle": false,
     "tableResultSettingsMap": {},
     "title": ""
    }
   },
   "outputs": [],
   "source": []
  }
 ],
 "metadata": {
  "application/vnd.databricks.v1+notebook": {
   "computePreferences": null,
   "dashboards": [],
   "environmentMetadata": {
    "base_environment": "",
    "environment_version": "1"
   },
   "inputWidgetPreferences": null,
   "language": "python",
   "notebookMetadata": {
    "pythonIndentUnit": 4
   },
   "notebookName": "lab 14  user defined Function",
   "widgets": {}
  }
 },
 "nbformat": 4,
 "nbformat_minor": 0
}