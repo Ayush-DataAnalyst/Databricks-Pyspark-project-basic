{
 "cells": [
  {
   "cell_type": "code",
   "execution_count": 0,
   "metadata": {
    "application/vnd.databricks.v1+cell": {
     "cellMetadata": {
      "byteLimit": 2048000,
      "rowLimit": 10000
     },
     "inputWidgets": {},
     "nuid": "47496f12-ab9f-4710-9579-0c3a4d9bb98c",
     "showTitle": false,
     "tableResultSettingsMap": {},
     "title": ""
    }
   },
   "outputs": [
    {
     "output_type": "stream",
     "name": "stdout",
     "output_type": "stream",
     "text": [
      "+---+------+------+\n| id|  name|salary|\n+---+------+------+\n|  1|manish| 10000|\n|  2|  Rani| 50000|\n|  3| Sunny|  5000|\n+---+------+------+\n\n"
     ]
    }
   ],
   "source": [
    "data = [(1,'manish',10000),(2,'Rani',50000),(3,'Sunny',5000)]\n",
    "columns = ['id','name','salary']\n",
    "\n",
    "df = spark.createDataFrame(data,columns)\n",
    "df.show()"
   ]
  },
  {
   "cell_type": "code",
   "execution_count": 0,
   "metadata": {
    "application/vnd.databricks.v1+cell": {
     "cellMetadata": {
      "byteLimit": 2048000,
      "rowLimit": 10000
     },
     "inputWidgets": {},
     "nuid": "eb1aac6a-c43b-4c03-a9bb-b153b9a4605a",
     "showTitle": false,
     "tableResultSettingsMap": {},
     "title": ""
    }
   },
   "outputs": [],
   "source": [
    "from pyspark.sql.functions import upper\n",
    "def uppername(df):\n",
    "    return df.withColumn(\"name\",upper(df.name))"
   ]
  },
  {
   "cell_type": "code",
   "execution_count": 0,
   "metadata": {
    "application/vnd.databricks.v1+cell": {
     "cellMetadata": {
      "byteLimit": 2048000,
      "rowLimit": 10000
     },
     "inputWidgets": {},
     "nuid": "e5dae495-83e3-4528-a51c-ab3cacc9f775",
     "showTitle": false,
     "tableResultSettingsMap": {},
     "title": ""
    }
   },
   "outputs": [
    {
     "output_type": "stream",
     "name": "stdout",
     "output_type": "stream",
     "text": [
      "+---+------+------+\n| id|  name|salary|\n+---+------+------+\n|  1|MANISH| 10000|\n|  2|  RANI| 50000|\n|  3| SUNNY|  5000|\n+---+------+------+\n\n"
     ]
    }
   ],
   "source": [
    "df.transform(uppername).show()"
   ]
  },
  {
   "cell_type": "code",
   "execution_count": 0,
   "metadata": {
    "application/vnd.databricks.v1+cell": {
     "cellMetadata": {},
     "inputWidgets": {},
     "nuid": "32b6db4a-dff4-45a6-9853-b029d888ea3e",
     "showTitle": false,
     "tableResultSettingsMap": {},
     "title": ""
    }
   },
   "outputs": [],
   "source": []
  }
 ],
 "metadata": {
  "application/vnd.databricks.v1+notebook": {
   "computePreferences": null,
   "dashboards": [],
   "environmentMetadata": {
    "base_environment": "",
    "environment_version": "1"
   },
   "inputWidgetPreferences": null,
   "language": "python",
   "notebookMetadata": {
    "pythonIndentUnit": 4
   },
   "notebookName": "Lab 15 upper",
   "widgets": {}
  }
 },
 "nbformat": 4,
 "nbformat_minor": 0
}