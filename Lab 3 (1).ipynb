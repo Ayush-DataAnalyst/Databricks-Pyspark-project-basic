{
 "cells": [
  {
   "cell_type": "markdown",
   "metadata": {
    "application/vnd.databricks.v1+cell": {
     "cellMetadata": {
      "byteLimit": 2048000,
      "rowLimit": 10000
     },
     "inputWidgets": {},
     "nuid": "026c7365-b4c9-4819-925e-2970493bba2f",
     "showTitle": false,
     "tableResultSettingsMap": {},
     "title": ""
    }
   },
   "source": [
    " /FileStore/tables/emp_1-1.csv"
   ]
  },
  {
   "cell_type": "code",
   "execution_count": 0,
   "metadata": {
    "application/vnd.databricks.v1+cell": {
     "cellMetadata": {
      "byteLimit": 2048000,
      "rowLimit": 10000
     },
     "inputWidgets": {},
     "nuid": "74aa2cd7-7198-4438-8226-96675a9c052a",
     "showTitle": false,
     "tableResultSettingsMap": {},
     "title": ""
    }
   },
   "outputs": [],
   "source": [
    "df = spark.read.csv(\"/FileStore/tables/emp_1-1.csv\", header=True,inferSchema=True)"
   ]
  },
  {
   "cell_type": "code",
   "execution_count": 0,
   "metadata": {
    "application/vnd.databricks.v1+cell": {
     "cellMetadata": {
      "byteLimit": 2048000,
      "rowLimit": 10000
     },
     "inputWidgets": {},
     "nuid": "59f49812-1dea-4808-82a1-8cc2774a11ec",
     "showTitle": false,
     "tableResultSettingsMap": {},
     "title": ""
    }
   },
   "outputs": [
    {
     "output_type": "stream",
     "name": "stdout",
     "output_type": "stream",
     "text": [
      "+------+------+------+-------+----+-----+\n|emp_id|  name|salary|address| loc|email|\n+------+------+------+-------+----+-----+\n|     1|manish| 10000|  india|null| null|\n|     2|  rani| 20000|    usa|null| null|\n|     3| rinku| 55000|  india|null| null|\n|     4|  neha| 12000|    usa|null| null|\n|     5|  null| 20000|    usa|null| null|\n|     6| rahul|  null|  india|null| null|\n|     1|manish| 10000|  india|null| null|\n|     2|  rani| 20000|    usa|null| null|\n|     3| rinku| 55000|  india|null| null|\n|     4|  neha| 12000|    usa|null| null|\n|     5|  null| 20000|    usa|null| null|\n|     6| rahul|  null|  india|null| null|\n+------+------+------+-------+----+-----+\n\n"
     ]
    }
   ],
   "source": [
    "df.show()"
   ]
  },
  {
   "cell_type": "code",
   "execution_count": 0,
   "metadata": {
    "application/vnd.databricks.v1+cell": {
     "cellMetadata": {
      "byteLimit": 2048000,
      "rowLimit": 10000
     },
     "inputWidgets": {},
     "nuid": "01be3088-4fbf-4a8f-9c72-fbd7c4294a64",
     "showTitle": false,
     "tableResultSettingsMap": {},
     "title": ""
    }
   },
   "outputs": [
    {
     "output_type": "stream",
     "name": "stdout",
     "output_type": "stream",
     "text": [
      "+------+------+\n|emp_id|salary|\n+------+------+\n|     1| 10000|\n|     2| 20000|\n|     3| 55000|\n|     4| 12000|\n|     5| 20000|\n|     6|  null|\n|     1| 10000|\n|     2| 20000|\n|     3| 55000|\n|     4| 12000|\n|     5| 20000|\n|     6|  null|\n+------+------+\n\n"
     ]
    }
   ],
   "source": [
    "df.select(\"emp_id\",\"salary\").show()"
   ]
  },
  {
   "cell_type": "code",
   "execution_count": 0,
   "metadata": {
    "application/vnd.databricks.v1+cell": {
     "cellMetadata": {
      "byteLimit": 2048000,
      "rowLimit": 10000
     },
     "inputWidgets": {},
     "nuid": "394cf1f8-2f2c-4c2a-8a90-538233fefc71",
     "showTitle": false,
     "tableResultSettingsMap": {},
     "title": ""
    }
   },
   "outputs": [
    {
     "output_type": "stream",
     "name": "stdout",
     "output_type": "stream",
     "text": [
      "+------+------+\n|emp_id|salary|\n+------+------+\n|     1| 10000|\n|     2| 20000|\n|     3| 55000|\n|     4| 12000|\n|     5| 20000|\n|     6|  null|\n|     1| 10000|\n|     2| 20000|\n|     3| 55000|\n|     4| 12000|\n|     5| 20000|\n|     6|  null|\n+------+------+\n\n"
     ]
    }
   ],
   "source": [
    "df.select(df.emp_id,df.salary).show()"
   ]
  },
  {
   "cell_type": "code",
   "execution_count": 0,
   "metadata": {
    "application/vnd.databricks.v1+cell": {
     "cellMetadata": {
      "byteLimit": 2048000,
      "rowLimit": 10000
     },
     "inputWidgets": {},
     "nuid": "c5fd9601-d7c3-4fd8-be26-06f936c590b2",
     "showTitle": false,
     "tableResultSettingsMap": {},
     "title": ""
    }
   },
   "outputs": [
    {
     "output_type": "stream",
     "name": "stdout",
     "output_type": "stream",
     "text": [
      "+------+------+-------+\n|  name|salary|address|\n+------+------+-------+\n|manish| 10000|  india|\n|  rani| 20000|    usa|\n| rinku| 55000|  india|\n|  neha| 12000|    usa|\n|  null| 20000|    usa|\n| rahul|  null|  india|\n|manish| 10000|  india|\n|  rani| 20000|    usa|\n| rinku| 55000|  india|\n|  neha| 12000|    usa|\n|  null| 20000|    usa|\n| rahul|  null|  india|\n+------+------+-------+\n\n"
     ]
    }
   ],
   "source": [
    "df.select(df.columns[1:4]).show()"
   ]
  },
  {
   "cell_type": "code",
   "execution_count": 0,
   "metadata": {
    "application/vnd.databricks.v1+cell": {
     "cellMetadata": {
      "byteLimit": 2048000,
      "rowLimit": 10000
     },
     "inputWidgets": {},
     "nuid": "ba03a63f-c8fc-4f33-9081-da4041465c4d",
     "showTitle": true,
     "tableResultSettingsMap": {},
     "title": "addnew column based on existing column"
    }
   },
   "outputs": [
    {
     "output_type": "stream",
     "name": "stdout",
     "output_type": "stream",
     "text": [
      "+------+------+------+-------+----+-----+\n|emp_id|  name|salary|address| loc|email|\n+------+------+------+-------+----+-----+\n|     1|manish|100000|  india|null| null|\n|     2|  rani|200000|    usa|null| null|\n|     3| rinku|550000|  india|null| null|\n|     4|  neha|120000|    usa|null| null|\n|     5|  null|200000|    usa|null| null|\n|     6| rahul|  null|  india|null| null|\n|     1|manish|100000|  india|null| null|\n|     2|  rani|200000|    usa|null| null|\n|     3| rinku|550000|  india|null| null|\n|     4|  neha|120000|    usa|null| null|\n|     5|  null|200000|    usa|null| null|\n|     6| rahul|  null|  india|null| null|\n+------+------+------+-------+----+-----+\n\n"
     ]
    }
   ],
   "source": [
    "df.withColumn(\"salary\",df.salary*10).show()"
   ]
  },
  {
   "cell_type": "code",
   "execution_count": 0,
   "metadata": {
    "application/vnd.databricks.v1+cell": {
     "cellMetadata": {
      "byteLimit": 2048000,
      "rowLimit": 10000
     },
     "inputWidgets": {},
     "nuid": "b69318c9-0e0f-4d42-86ca-77a1494926c0",
     "showTitle": false,
     "tableResultSettingsMap": {},
     "title": ""
    }
   },
   "outputs": [
    {
     "output_type": "stream",
     "name": "stdout",
     "output_type": "stream",
     "text": [
      "+------+------+------+-------+----+-----+-------+\n|emp_id|  name|salary|address| loc|email|country|\n+------+------+------+-------+----+-----+-------+\n|     1|manish| 10000|  india|null| null|    usa|\n|     2|  rani| 20000|    usa|null| null|    usa|\n|     3| rinku| 55000|  india|null| null|    usa|\n|     4|  neha| 12000|    usa|null| null|    usa|\n|     5|  null| 20000|    usa|null| null|    usa|\n|     6| rahul|  null|  india|null| null|    usa|\n|     1|manish| 10000|  india|null| null|    usa|\n|     2|  rani| 20000|    usa|null| null|    usa|\n|     3| rinku| 55000|  india|null| null|    usa|\n|     4|  neha| 12000|    usa|null| null|    usa|\n|     5|  null| 20000|    usa|null| null|    usa|\n|     6| rahul|  null|  india|null| null|    usa|\n+------+------+------+-------+----+-----+-------+\n\n"
     ]
    }
   ],
   "source": [
    "from pyspark.sql.functions import lit\n",
    "\n",
    "df.withColumn(\"country\",lit(\"usa\")).show()"
   ]
  },
  {
   "cell_type": "code",
   "execution_count": 0,
   "metadata": {
    "application/vnd.databricks.v1+cell": {
     "cellMetadata": {
      "byteLimit": 2048000,
      "rowLimit": 10000
     },
     "inputWidgets": {},
     "nuid": "f3dd7013-e118-4bb4-a5f7-0e75d49a7b71",
     "showTitle": false,
     "tableResultSettingsMap": {},
     "title": ""
    }
   },
   "outputs": [
    {
     "output_type": "stream",
     "name": "stdout",
     "output_type": "stream",
     "text": [
      "+------+------+------+-------+----+-----+---------+\n|emp_id|  name|salary|address| loc|email|increment|\n+------+------+------+-------+----+-----+---------+\n|     1|manish| 10000|  india|null| null|        0|\n|     2|  rani| 20000|    usa|null| null|        0|\n|     3| rinku| 55000|  india|null| null|        0|\n|     4|  neha| 12000|    usa|null| null|        0|\n|     5|  null| 20000|    usa|null| null|        0|\n|     6| rahul|  null|  india|null| null|        0|\n|     1|manish| 10000|  india|null| null|        0|\n|     2|  rani| 20000|    usa|null| null|        0|\n|     3| rinku| 55000|  india|null| null|        0|\n|     4|  neha| 12000|    usa|null| null|        0|\n|     5|  null| 20000|    usa|null| null|        0|\n|     6| rahul|  null|  india|null| null|        0|\n+------+------+------+-------+----+-----+---------+\n\n"
     ]
    }
   ],
   "source": [
    "df.withColumn(\"increment\",lit(\"0\")).show()"
   ]
  },
  {
   "cell_type": "code",
   "execution_count": 0,
   "metadata": {
    "application/vnd.databricks.v1+cell": {
     "cellMetadata": {
      "byteLimit": 2048000,
      "rowLimit": 10000
     },
     "inputWidgets": {},
     "nuid": "b17c847e-dc70-4401-b124-fc20eafb4da8",
     "showTitle": true,
     "tableResultSettingsMap": {},
     "title": "Update existing schema"
    }
   },
   "outputs": [
    {
     "output_type": "stream",
     "name": "stdout",
     "output_type": "stream",
     "text": [
      "root\n |-- emp_id: integer (nullable = true)\n |-- name: string (nullable = true)\n |-- salary: integer (nullable = true)\n |-- address: string (nullable = true)\n |-- loc: string (nullable = true)\n |-- email: string (nullable = true)\n\n"
     ]
    }
   ],
   "source": [
    "df.printSchema()"
   ]
  },
  {
   "cell_type": "code",
   "execution_count": 0,
   "metadata": {
    "application/vnd.databricks.v1+cell": {
     "cellMetadata": {
      "byteLimit": 2048000,
      "rowLimit": 10000
     },
     "inputWidgets": {},
     "nuid": "221ec20d-6b72-49e5-bc7a-135984d78776",
     "showTitle": false,
     "tableResultSettingsMap": {},
     "title": ""
    }
   },
   "outputs": [],
   "source": [
    "from pyspark.sql.functions import col\n",
    "df1 = df.withColumn(\"salary\",col(\"salary\").cast(\"integer\"))"
   ]
  },
  {
   "cell_type": "code",
   "execution_count": 0,
   "metadata": {
    "application/vnd.databricks.v1+cell": {
     "cellMetadata": {
      "byteLimit": 2048000,
      "rowLimit": 10000
     },
     "inputWidgets": {},
     "nuid": "35b85a39-66ff-44c3-b6bd-961f14066f17",
     "showTitle": false,
     "tableResultSettingsMap": {},
     "title": ""
    }
   },
   "outputs": [
    {
     "output_type": "stream",
     "name": "stdout",
     "output_type": "stream",
     "text": [
      "+------+------+------+-------+----+-----+\n|emp_id|  name|salary|address| loc|email|\n+------+------+------+-------+----+-----+\n|     1|manish| 10000|  india|null| null|\n|     2|  rani| 20000|    usa|null| null|\n|     3| rinku| 55000|  india|null| null|\n|     4|  neha| 12000|    usa|null| null|\n|     5|  null| 20000|    usa|null| null|\n|     6| rahul|  null|  india|null| null|\n|     1|manish| 10000|  india|null| null|\n|     2|  rani| 20000|    usa|null| null|\n|     3| rinku| 55000|  india|null| null|\n|     4|  neha| 12000|    usa|null| null|\n|     5|  null| 20000|    usa|null| null|\n|     6| rahul|  null|  india|null| null|\n+------+------+------+-------+----+-----+\n\n"
     ]
    }
   ],
   "source": [
    "df1.show()"
   ]
  },
  {
   "cell_type": "code",
   "execution_count": 0,
   "metadata": {
    "application/vnd.databricks.v1+cell": {
     "cellMetadata": {
      "byteLimit": 2048000,
      "rowLimit": 10000
     },
     "inputWidgets": {},
     "nuid": "376bb075-ebf2-4af2-9e4a-0ba0860fe38a",
     "showTitle": false,
     "tableResultSettingsMap": {},
     "title": ""
    }
   },
   "outputs": [
    {
     "output_type": "stream",
     "name": "stdout",
     "output_type": "stream",
     "text": [
      "root\n |-- emp_id: integer (nullable = true)\n |-- name: string (nullable = true)\n |-- salary: integer (nullable = true)\n |-- address: string (nullable = true)\n |-- loc: string (nullable = true)\n |-- email: string (nullable = true)\n\n"
     ]
    }
   ],
   "source": [
    "df1.printSchema()"
   ]
  },
  {
   "cell_type": "code",
   "execution_count": 0,
   "metadata": {
    "application/vnd.databricks.v1+cell": {
     "cellMetadata": {
      "byteLimit": 2048000,
      "rowLimit": 10000
     },
     "inputWidgets": {},
     "nuid": "cca91ee4-6947-4f8c-b005-da97430ef22f",
     "showTitle": false,
     "tableResultSettingsMap": {},
     "title": ""
    }
   },
   "outputs": [
    {
     "output_type": "stream",
     "name": "stdout",
     "output_type": "stream",
     "text": [
      "+------+------+------+-------+--------+-----+\n|emp_id|  name|salary|address|location|email|\n+------+------+------+-------+--------+-----+\n|     1|manish| 10000|  india|    null| null|\n|     2|  rani| 20000|    usa|    null| null|\n|     3| rinku| 55000|  india|    null| null|\n|     4|  neha| 12000|    usa|    null| null|\n|     5|  null| 20000|    usa|    null| null|\n|     6| rahul|  null|  india|    null| null|\n|     1|manish| 10000|  india|    null| null|\n|     2|  rani| 20000|    usa|    null| null|\n|     3| rinku| 55000|  india|    null| null|\n|     4|  neha| 12000|    usa|    null| null|\n|     5|  null| 20000|    usa|    null| null|\n|     6| rahul|  null|  india|    null| null|\n+------+------+------+-------+--------+-----+\n\n"
     ]
    }
   ],
   "source": [
    "df.withColumnRenamed(\"loc\",\"location\").show()"
   ]
  },
  {
   "cell_type": "code",
   "execution_count": 0,
   "metadata": {
    "application/vnd.databricks.v1+cell": {
     "cellMetadata": {
      "byteLimit": 2048000,
      "rowLimit": 10000
     },
     "inputWidgets": {},
     "nuid": "3206e16f-738e-4048-ba39-b4104ea9a332",
     "showTitle": false,
     "tableResultSettingsMap": {},
     "title": ""
    }
   },
   "outputs": [],
   "source": []
  },
  {
   "cell_type": "code",
   "execution_count": 0,
   "metadata": {
    "application/vnd.databricks.v1+cell": {
     "cellMetadata": {
      "byteLimit": 2048000,
      "rowLimit": 10000
     },
     "inputWidgets": {},
     "nuid": "6c6c3c58-8591-4615-8f25-e0b12b17f86f",
     "showTitle": false,
     "tableResultSettingsMap": {},
     "title": ""
    }
   },
   "outputs": [],
   "source": []
  },
  {
   "cell_type": "code",
   "execution_count": 0,
   "metadata": {
    "application/vnd.databricks.v1+cell": {
     "cellMetadata": {
      "byteLimit": 2048000,
      "rowLimit": 10000
     },
     "inputWidgets": {},
     "nuid": "79e96329-ceec-4ace-9533-6959a387cf12",
     "showTitle": false,
     "tableResultSettingsMap": {},
     "title": ""
    }
   },
   "outputs": [],
   "source": []
  },
  {
   "cell_type": "code",
   "execution_count": 0,
   "metadata": {
    "application/vnd.databricks.v1+cell": {
     "cellMetadata": {
      "byteLimit": 2048000,
      "rowLimit": 10000
     },
     "inputWidgets": {},
     "nuid": "25a2a683-ba6b-4078-a011-1882e3d76e3e",
     "showTitle": false,
     "tableResultSettingsMap": {},
     "title": ""
    }
   },
   "outputs": [],
   "source": []
  }
 ],
 "metadata": {
  "application/vnd.databricks.v1+notebook": {
   "computePreferences": null,
   "dashboards": [],
   "environmentMetadata": {
    "base_environment": "",
    "environment_version": "1"
   },
   "inputWidgetPreferences": null,
   "language": "python",
   "notebookMetadata": {
    "pythonIndentUnit": 4
   },
   "notebookName": "Lab 3",
   "widgets": {}
  }
 },
 "nbformat": 4,
 "nbformat_minor": 0
}