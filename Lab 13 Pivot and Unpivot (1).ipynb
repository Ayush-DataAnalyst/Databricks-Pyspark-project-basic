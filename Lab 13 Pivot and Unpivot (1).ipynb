{
 "cells": [
  {
   "cell_type": "code",
   "execution_count": 0,
   "metadata": {
    "application/vnd.databricks.v1+cell": {
     "cellMetadata": {
      "byteLimit": 2048000,
      "rowLimit": 10000
     },
     "inputWidgets": {},
     "nuid": "ba6e1eeb-f0e3-4ea7-b817-a499fb5641eb",
     "showTitle": false,
     "tableResultSettingsMap": {},
     "title": ""
    }
   },
   "outputs": [
    {
     "output_type": "stream",
     "name": "stdout",
     "output_type": "stream",
     "text": [
      "+-------+------+-------+\n|Product|Amount|Country|\n+-------+------+-------+\n| Banana|  1000|    USA|\n|Carrots|  1500|    USA|\n|  Beans|  1600|    USA|\n| Orange|  2000|    USA|\n| Orange|  2000|    USA|\n| Banana|   400|Germany|\n|Carrots|  1500|Germany|\n|  Beans|  4000|Germany|\n| Orange|  1200|Germany|\n| Banana|  2000| Russia|\n|Carrots|  2000| Russia|\n|  Beans|  2000| Mexico|\n+-------+------+-------+\n\n"
     ]
    }
   ],
   "source": [
    "data = [(\"Banana\",1000,\"USA\"),(\"Carrots\",1500,\"USA\"),(\"Beans\",1600,\"USA\"),(\"Orange\",2000,\"USA\"), \\\n",
    "        (\"Orange\",2000,\"USA\"),(\"Banana\",400,\"Germany\"),(\"Carrots\",1500,\"Germany\"),(\"Beans\",4000,\"Germany\"), \\\n",
    "        (\"Orange\",1200,\"Germany\"),(\"Banana\",2000,\"Russia\"),(\"Carrots\",2000,\"Russia\"),(\"Beans\",2000,\"Mexico\") ]\n",
    "\n",
    "\n",
    "columns = [\"Product\",\"Amount\",\"Country\"]\n",
    "\n",
    "df = spark.createDataFrame(data,columns)\n",
    "df.show()"
   ]
  },
  {
   "cell_type": "code",
   "execution_count": 0,
   "metadata": {
    "application/vnd.databricks.v1+cell": {
     "cellMetadata": {
      "byteLimit": 2048000,
      "rowLimit": 10000
     },
     "inputWidgets": {},
     "nuid": "944bd6bd-ae65-4f26-82a9-af2d75e672e4",
     "showTitle": false,
     "tableResultSettingsMap": {},
     "title": ""
    }
   },
   "outputs": [
    {
     "output_type": "stream",
     "name": "stdout",
     "output_type": "stream",
     "text": [
      "+-------+-------+------+------+----+\n|Product|Germany|Mexico|Russia| USA|\n+-------+-------+------+------+----+\n| Orange|   1200|  null|  null|4000|\n|  Beans|   4000|  2000|  null|1600|\n| Banana|    400|  null|  2000|1000|\n|Carrots|   1500|  null|  2000|1500|\n+-------+-------+------+------+----+\n\n"
     ]
    }
   ],
   "source": [
    "df.groupBy(\"Product\").pivot(\"Country\").sum(\"Amount\").show()"
   ]
  },
  {
   "cell_type": "code",
   "execution_count": 0,
   "metadata": {
    "application/vnd.databricks.v1+cell": {
     "cellMetadata": {
      "byteLimit": 2048000,
      "rowLimit": 10000
     },
     "inputWidgets": {},
     "nuid": "e26ae37b-c212-4ed1-8280-4d1ea57e452c",
     "showTitle": false,
     "tableResultSettingsMap": {},
     "title": ""
    }
   },
   "outputs": [],
   "source": [
    "df1=df.groupBy(\"Product\").pivot(\"Country\").sum(\"Amount\")\n"
   ]
  },
  {
   "cell_type": "code",
   "execution_count": 0,
   "metadata": {
    "application/vnd.databricks.v1+cell": {
     "cellMetadata": {
      "byteLimit": 2048000,
      "rowLimit": 10000
     },
     "inputWidgets": {},
     "nuid": "034e5aa5-2940-44db-b6bb-2d1ed0d98c1f",
     "showTitle": false,
     "tableResultSettingsMap": {},
     "title": ""
    }
   },
   "outputs": [
    {
     "output_type": "stream",
     "name": "stdout",
     "output_type": "stream",
     "text": [
      "+-------+-------+------+------+----+\n|Product|Germany|Mexico|Russia| USA|\n+-------+-------+------+------+----+\n| Orange|   1200|  null|  null|4000|\n|  Beans|   4000|  2000|  null|1600|\n| Banana|    400|  null|  2000|1000|\n|Carrots|   1500|  null|  2000|1500|\n+-------+-------+------+------+----+\n\n"
     ]
    }
   ],
   "source": [
    "df1.show()"
   ]
  },
  {
   "cell_type": "code",
   "execution_count": 0,
   "metadata": {
    "application/vnd.databricks.v1+cell": {
     "cellMetadata": {
      "byteLimit": 2048000,
      "rowLimit": 10000
     },
     "inputWidgets": {},
     "nuid": "90a70d2f-2e51-4035-96bf-9cf9f6254f62",
     "showTitle": false,
     "tableResultSettingsMap": {},
     "title": ""
    }
   },
   "outputs": [
    {
     "output_type": "stream",
     "name": "stdout",
     "output_type": "stream",
     "text": [
      "+-------+-------+-----+\n|product|country|total|\n+-------+-------+-----+\n| Orange|Germany| 1200|\n| Orange| Mexico| null|\n| Orange| Russia| null|\n| Orange|    USA| 4000|\n|  Beans|Germany| 4000|\n|  Beans| Mexico| 2000|\n|  Beans| Russia| null|\n|  Beans|    USA| 1600|\n| Banana|Germany|  400|\n| Banana| Mexico| null|\n| Banana| Russia| 2000|\n| Banana|    USA| 1000|\n|Carrots|Germany| 1500|\n|Carrots| Mexico| null|\n|Carrots| Russia| 2000|\n|Carrots|    USA| 1500|\n+-------+-------+-----+\n\n"
     ]
    }
   ],
   "source": [
    "from pyspark.sql.functions import expr\n",
    "df1.select(\"product\",expr(\"stack(4,'Germany',Germany,'Mexico',Mexico,'Russia',Russia,'USA',USA) as (country,total)\")).show()"
   ]
  },
  {
   "cell_type": "code",
   "execution_count": 0,
   "metadata": {
    "application/vnd.databricks.v1+cell": {
     "cellMetadata": {},
     "inputWidgets": {},
     "nuid": "b7e9f105-820b-4374-a2dc-181f70eedc7d",
     "showTitle": false,
     "tableResultSettingsMap": {},
     "title": ""
    }
   },
   "outputs": [],
   "source": []
  }
 ],
 "metadata": {
  "application/vnd.databricks.v1+notebook": {
   "computePreferences": null,
   "dashboards": [],
   "environmentMetadata": {
    "base_environment": "",
    "environment_version": "1"
   },
   "inputWidgetPreferences": null,
   "language": "python",
   "notebookMetadata": {
    "pythonIndentUnit": 4
   },
   "notebookName": "Lab 13 Pivot and Unpivot",
   "widgets": {}
  }
 },
 "nbformat": 4,
 "nbformat_minor": 0
}