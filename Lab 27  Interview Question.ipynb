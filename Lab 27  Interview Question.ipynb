{
 "cells": [
  {
   "cell_type": "markdown",
   "metadata": {
    "application/vnd.databricks.v1+cell": {
     "cellMetadata": {},
     "inputWidgets": {},
     "nuid": "40c8c964-312b-4b58-bd96-8feac1e8b95b",
     "showTitle": false,
     "tableResultSettingsMap": {},
     "title": ""
    }
   },
   "source": [
    "# **INTERVIEW QUESTION**\n",
    "## 1 question\n",
    "**1. Find out cummulative sales or running total sales**\n",
    "\n",
    "**2. find out the prev sales**\n",
    "\n",
    "**3. find out the nex sales**\n",
    "\n",
    "#### SOLVE USING PYSPARK AND SPARK SQL"
   ]
  },
  {
   "cell_type": "code",
   "execution_count": 0,
   "metadata": {
    "application/vnd.databricks.v1+cell": {
     "cellMetadata": {
      "byteLimit": 2048000,
      "rowLimit": 10000
     },
     "inputWidgets": {},
     "nuid": "08e2cb82-b943-40a4-a8f9-5c12101a39d7",
     "showTitle": false,
     "tableResultSettingsMap": {},
     "title": ""
    }
   },
   "outputs": [
    {
     "output_type": "display_data",
     "data": {
      "text/html": [
       "<style scoped>\n",
       "  .table-result-container {\n",
       "    max-height: 300px;\n",
       "    overflow: auto;\n",
       "  }\n",
       "  table, th, td {\n",
       "    border: 1px solid black;\n",
       "    border-collapse: collapse;\n",
       "  }\n",
       "  th, td {\n",
       "    padding: 5px;\n",
       "  }\n",
       "  th {\n",
       "    text-align: left;\n",
       "  }\n",
       "</style><div class='table-result-container'><table class='table-result'><thead style='background-color: white'><tr><th>date</th><th>sales</th></tr></thead><tbody><tr><td>2024-01-01</td><td>20000</td></tr><tr><td>2024-01-02</td><td>10000</td></tr><tr><td>2024-01-03</td><td>150000</td></tr><tr><td>2024-01-04</td><td>100000</td></tr><tr><td>2024-01-05</td><td>210000</td></tr></tbody></table></div>"
      ]
     },
     "metadata": {
      "application/vnd.databricks.v1+output": {
       "addedWidgets": {},
       "aggData": [],
       "aggError": "",
       "aggOverflow": false,
       "aggSchema": [],
       "aggSeriesLimitReached": false,
       "aggType": "",
       "arguments": {},
       "columnCustomDisplayInfos": {},
       "data": [
        [
         "2024-01-01",
         20000
        ],
        [
         "2024-01-02",
         10000
        ],
        [
         "2024-01-03",
         150000
        ],
        [
         "2024-01-04",
         100000
        ],
        [
         "2024-01-05",
         210000
        ]
       ],
       "datasetInfos": [],
       "dbfsResultPath": null,
       "isJsonSchema": true,
       "metadata": {},
       "overflow": false,
       "plotOptions": {
        "customPlotOptions": {},
        "displayType": "table",
        "pivotAggregation": null,
        "pivotColumns": null,
        "xColumns": null,
        "yColumns": null
       },
       "removedWidgets": [],
       "schema": [
        {
         "metadata": "{}",
         "name": "date",
         "type": "\"string\""
        },
        {
         "metadata": "{}",
         "name": "sales",
         "type": "\"long\""
        }
       ],
       "type": "table"
      }
     },
     "output_type": "display_data"
    }
   ],
   "source": [
    "data = [ ['2024-01-01',20000], ['2024-01-02',10000],[ '2024-01-03',150000], ['2024-01-04',100000], ['2024-01-05',210000]] \n",
    "  \n",
    "#define column names\n",
    "columns = ['date', 'sales'] \n",
    "  \n",
    "#create dataframe using data and column names\n",
    "df = spark.createDataFrame(data,columns)\n",
    "display(df)"
   ]
  },
  {
   "cell_type": "code",
   "execution_count": 0,
   "metadata": {
    "application/vnd.databricks.v1+cell": {
     "cellMetadata": {
      "byteLimit": 2048000,
      "rowLimit": 10000
     },
     "inputWidgets": {},
     "nuid": "8ab9614f-70d2-46a2-8bf4-f96d013ea424",
     "showTitle": true,
     "tableResultSettingsMap": {},
     "title": "SQL"
    }
   },
   "outputs": [],
   "source": [
    "df.createOrReplaceTempView('sample')"
   ]
  },
  {
   "cell_type": "code",
   "execution_count": 0,
   "metadata": {
    "application/vnd.databricks.v1+cell": {
     "cellMetadata": {
      "byteLimit": 2048000,
      "implicitDf": true,
      "rowLimit": 10000
     },
     "inputWidgets": {},
     "nuid": "83e0feae-1ace-4110-af91-44e33b1d17f1",
     "showTitle": false,
     "tableResultSettingsMap": {},
     "title": ""
    }
   },
   "outputs": [
    {
     "output_type": "display_data",
     "data": {
      "text/html": [
       "<style scoped>\n",
       "  .table-result-container {\n",
       "    max-height: 300px;\n",
       "    overflow: auto;\n",
       "  }\n",
       "  table, th, td {\n",
       "    border: 1px solid black;\n",
       "    border-collapse: collapse;\n",
       "  }\n",
       "  th, td {\n",
       "    padding: 5px;\n",
       "  }\n",
       "  th {\n",
       "    text-align: left;\n",
       "  }\n",
       "</style><div class='table-result-container'><table class='table-result'><thead style='background-color: white'><tr><th>date</th><th>sales</th></tr></thead><tbody><tr><td>2024-01-01</td><td>20000</td></tr><tr><td>2024-01-02</td><td>10000</td></tr><tr><td>2024-01-03</td><td>150000</td></tr><tr><td>2024-01-04</td><td>100000</td></tr><tr><td>2024-01-05</td><td>210000</td></tr></tbody></table></div>"
      ]
     },
     "metadata": {
      "application/vnd.databricks.v1+output": {
       "addedWidgets": {},
       "aggData": [],
       "aggError": "",
       "aggOverflow": false,
       "aggSchema": [],
       "aggSeriesLimitReached": false,
       "aggType": "",
       "arguments": {},
       "columnCustomDisplayInfos": {},
       "data": [
        [
         "2024-01-01",
         20000
        ],
        [
         "2024-01-02",
         10000
        ],
        [
         "2024-01-03",
         150000
        ],
        [
         "2024-01-04",
         100000
        ],
        [
         "2024-01-05",
         210000
        ]
       ],
       "datasetInfos": [],
       "dbfsResultPath": null,
       "isJsonSchema": true,
       "metadata": {},
       "overflow": false,
       "plotOptions": {
        "customPlotOptions": {},
        "displayType": "table",
        "pivotAggregation": null,
        "pivotColumns": null,
        "xColumns": null,
        "yColumns": null
       },
       "removedWidgets": [],
       "schema": [
        {
         "metadata": "{}",
         "name": "date",
         "type": "\"string\""
        },
        {
         "metadata": "{}",
         "name": "sales",
         "type": "\"long\""
        }
       ],
       "type": "table"
      }
     },
     "output_type": "display_data"
    }
   ],
   "source": [
    "%sql\n",
    "select * from sample"
   ]
  },
  {
   "cell_type": "code",
   "execution_count": 0,
   "metadata": {
    "application/vnd.databricks.v1+cell": {
     "cellMetadata": {
      "byteLimit": 2048000,
      "implicitDf": true,
      "rowLimit": 10000
     },
     "inputWidgets": {},
     "nuid": "f36d2e8a-106a-4419-8e3b-d04a08f50768",
     "showTitle": true,
     "tableResultSettingsMap": {},
     "title": "1. Find out cummulative sales or running total sales"
    }
   },
   "outputs": [
    {
     "output_type": "display_data",
     "data": {
      "text/html": [
       "<style scoped>\n",
       "  .table-result-container {\n",
       "    max-height: 300px;\n",
       "    overflow: auto;\n",
       "  }\n",
       "  table, th, td {\n",
       "    border: 1px solid black;\n",
       "    border-collapse: collapse;\n",
       "  }\n",
       "  th, td {\n",
       "    padding: 5px;\n",
       "  }\n",
       "  th {\n",
       "    text-align: left;\n",
       "  }\n",
       "</style><div class='table-result-container'><table class='table-result'><thead style='background-color: white'><tr><th>date</th><th>sales</th><th>cumm_sales</th></tr></thead><tbody><tr><td>2024-01-01</td><td>20000</td><td>20000</td></tr><tr><td>2024-01-02</td><td>10000</td><td>30000</td></tr><tr><td>2024-01-03</td><td>150000</td><td>180000</td></tr><tr><td>2024-01-04</td><td>100000</td><td>280000</td></tr><tr><td>2024-01-05</td><td>210000</td><td>490000</td></tr></tbody></table></div>"
      ]
     },
     "metadata": {
      "application/vnd.databricks.v1+output": {
       "addedWidgets": {},
       "aggData": [],
       "aggError": "",
       "aggOverflow": false,
       "aggSchema": [],
       "aggSeriesLimitReached": false,
       "aggType": "",
       "arguments": {},
       "columnCustomDisplayInfos": {},
       "data": [
        [
         "2024-01-01",
         20000,
         20000
        ],
        [
         "2024-01-02",
         10000,
         30000
        ],
        [
         "2024-01-03",
         150000,
         180000
        ],
        [
         "2024-01-04",
         100000,
         280000
        ],
        [
         "2024-01-05",
         210000,
         490000
        ]
       ],
       "datasetInfos": [],
       "dbfsResultPath": null,
       "isJsonSchema": true,
       "metadata": {},
       "overflow": false,
       "plotOptions": {
        "customPlotOptions": {},
        "displayType": "table",
        "pivotAggregation": null,
        "pivotColumns": null,
        "xColumns": null,
        "yColumns": null
       },
       "removedWidgets": [],
       "schema": [
        {
         "metadata": "{}",
         "name": "date",
         "type": "\"string\""
        },
        {
         "metadata": "{}",
         "name": "sales",
         "type": "\"long\""
        },
        {
         "metadata": "{}",
         "name": "cumm_sales",
         "type": "\"long\""
        }
       ],
       "type": "table"
      }
     },
     "output_type": "display_data"
    }
   ],
   "source": [
    "%sql\n",
    "select *,sum(sales) over(order by date asc) cumm_sales from sample"
   ]
  },
  {
   "cell_type": "code",
   "execution_count": 0,
   "metadata": {
    "application/vnd.databricks.v1+cell": {
     "cellMetadata": {
      "byteLimit": 2048000,
      "implicitDf": true,
      "rowLimit": 10000
     },
     "inputWidgets": {},
     "nuid": "1c90993e-3e39-4c0e-9a31-6cd5e6b5da56",
     "showTitle": true,
     "tableResultSettingsMap": {},
     "title": "2. find out the prev sales"
    }
   },
   "outputs": [
    {
     "output_type": "display_data",
     "data": {
      "text/html": [
       "<style scoped>\n",
       "  .table-result-container {\n",
       "    max-height: 300px;\n",
       "    overflow: auto;\n",
       "  }\n",
       "  table, th, td {\n",
       "    border: 1px solid black;\n",
       "    border-collapse: collapse;\n",
       "  }\n",
       "  th, td {\n",
       "    padding: 5px;\n",
       "  }\n",
       "  th {\n",
       "    text-align: left;\n",
       "  }\n",
       "</style><div class='table-result-container'><table class='table-result'><thead style='background-color: white'><tr><th>date</th><th>sales</th><th>cumm_sales</th><th>prev_sales</th></tr></thead><tbody><tr><td>2024-01-01</td><td>20000</td><td>20000</td><td>null</td></tr><tr><td>2024-01-02</td><td>10000</td><td>30000</td><td>20000</td></tr><tr><td>2024-01-03</td><td>150000</td><td>180000</td><td>10000</td></tr><tr><td>2024-01-04</td><td>100000</td><td>280000</td><td>150000</td></tr><tr><td>2024-01-05</td><td>210000</td><td>490000</td><td>100000</td></tr></tbody></table></div>"
      ]
     },
     "metadata": {
      "application/vnd.databricks.v1+output": {
       "addedWidgets": {},
       "aggData": [],
       "aggError": "",
       "aggOverflow": false,
       "aggSchema": [],
       "aggSeriesLimitReached": false,
       "aggType": "",
       "arguments": {},
       "columnCustomDisplayInfos": {},
       "data": [
        [
         "2024-01-01",
         20000,
         20000,
         null
        ],
        [
         "2024-01-02",
         10000,
         30000,
         20000
        ],
        [
         "2024-01-03",
         150000,
         180000,
         10000
        ],
        [
         "2024-01-04",
         100000,
         280000,
         150000
        ],
        [
         "2024-01-05",
         210000,
         490000,
         100000
        ]
       ],
       "datasetInfos": [],
       "dbfsResultPath": null,
       "isJsonSchema": true,
       "metadata": {},
       "overflow": false,
       "plotOptions": {
        "customPlotOptions": {},
        "displayType": "table",
        "pivotAggregation": null,
        "pivotColumns": null,
        "xColumns": null,
        "yColumns": null
       },
       "removedWidgets": [],
       "schema": [
        {
         "metadata": "{}",
         "name": "date",
         "type": "\"string\""
        },
        {
         "metadata": "{}",
         "name": "sales",
         "type": "\"long\""
        },
        {
         "metadata": "{}",
         "name": "cumm_sales",
         "type": "\"long\""
        },
        {
         "metadata": "{}",
         "name": "prev_sales",
         "type": "\"long\""
        }
       ],
       "type": "table"
      }
     },
     "output_type": "display_data"
    }
   ],
   "source": [
    "%sql\n",
    "select *,sum(sales) over(order by date asc) cumm_sales, lag(sales) over(order by date asc) prev_sales  from sample"
   ]
  },
  {
   "cell_type": "code",
   "execution_count": 0,
   "metadata": {
    "application/vnd.databricks.v1+cell": {
     "cellMetadata": {
      "byteLimit": 2048000,
      "implicitDf": true,
      "rowLimit": 10000
     },
     "inputWidgets": {},
     "nuid": "06baad57-45cf-4609-abd2-417e686d04c7",
     "showTitle": true,
     "tableResultSettingsMap": {},
     "title": "Next Sales"
    }
   },
   "outputs": [
    {
     "output_type": "display_data",
     "data": {
      "text/html": [
       "<style scoped>\n",
       "  .table-result-container {\n",
       "    max-height: 300px;\n",
       "    overflow: auto;\n",
       "  }\n",
       "  table, th, td {\n",
       "    border: 1px solid black;\n",
       "    border-collapse: collapse;\n",
       "  }\n",
       "  th, td {\n",
       "    padding: 5px;\n",
       "  }\n",
       "  th {\n",
       "    text-align: left;\n",
       "  }\n",
       "</style><div class='table-result-container'><table class='table-result'><thead style='background-color: white'><tr><th>date</th><th>sales</th><th>cumm_sales</th><th>prev_sales</th><th>Next_sales</th></tr></thead><tbody><tr><td>2024-01-01</td><td>20000</td><td>20000</td><td>null</td><td>10000</td></tr><tr><td>2024-01-02</td><td>10000</td><td>30000</td><td>20000</td><td>150000</td></tr><tr><td>2024-01-03</td><td>150000</td><td>180000</td><td>10000</td><td>100000</td></tr><tr><td>2024-01-04</td><td>100000</td><td>280000</td><td>150000</td><td>210000</td></tr><tr><td>2024-01-05</td><td>210000</td><td>490000</td><td>100000</td><td>null</td></tr></tbody></table></div>"
      ]
     },
     "metadata": {
      "application/vnd.databricks.v1+output": {
       "addedWidgets": {},
       "aggData": [],
       "aggError": "",
       "aggOverflow": false,
       "aggSchema": [],
       "aggSeriesLimitReached": false,
       "aggType": "",
       "arguments": {},
       "columnCustomDisplayInfos": {},
       "data": [
        [
         "2024-01-01",
         20000,
         20000,
         null,
         10000
        ],
        [
         "2024-01-02",
         10000,
         30000,
         20000,
         150000
        ],
        [
         "2024-01-03",
         150000,
         180000,
         10000,
         100000
        ],
        [
         "2024-01-04",
         100000,
         280000,
         150000,
         210000
        ],
        [
         "2024-01-05",
         210000,
         490000,
         100000,
         null
        ]
       ],
       "datasetInfos": [],
       "dbfsResultPath": null,
       "isJsonSchema": true,
       "metadata": {},
       "overflow": false,
       "plotOptions": {
        "customPlotOptions": {},
        "displayType": "table",
        "pivotAggregation": null,
        "pivotColumns": null,
        "xColumns": null,
        "yColumns": null
       },
       "removedWidgets": [],
       "schema": [
        {
         "metadata": "{}",
         "name": "date",
         "type": "\"string\""
        },
        {
         "metadata": "{}",
         "name": "sales",
         "type": "\"long\""
        },
        {
         "metadata": "{}",
         "name": "cumm_sales",
         "type": "\"long\""
        },
        {
         "metadata": "{}",
         "name": "prev_sales",
         "type": "\"long\""
        },
        {
         "metadata": "{}",
         "name": "Next_sales",
         "type": "\"long\""
        }
       ],
       "type": "table"
      }
     },
     "output_type": "display_data"
    }
   ],
   "source": [
    "%sql\n",
    "select *,sum(sales) over(order by date asc) cumm_sales, lag(sales) over(order by date asc) prev_sales , lead(sales) over(order by date asc) Next_sales from sample"
   ]
  },
  {
   "cell_type": "code",
   "execution_count": 0,
   "metadata": {
    "application/vnd.databricks.v1+cell": {
     "cellMetadata": {
      "byteLimit": 2048000,
      "rowLimit": 10000
     },
     "inputWidgets": {},
     "nuid": "389530bb-4e90-4739-83ac-7aed03089cca",
     "showTitle": false,
     "tableResultSettingsMap": {},
     "title": ""
    }
   },
   "outputs": [
    {
     "output_type": "display_data",
     "data": {
      "text/html": [
       "<style scoped>\n",
       "  .table-result-container {\n",
       "    max-height: 300px;\n",
       "    overflow: auto;\n",
       "  }\n",
       "  table, th, td {\n",
       "    border: 1px solid black;\n",
       "    border-collapse: collapse;\n",
       "  }\n",
       "  th, td {\n",
       "    padding: 5px;\n",
       "  }\n",
       "  th {\n",
       "    text-align: left;\n",
       "  }\n",
       "</style><div class='table-result-container'><table class='table-result'><thead style='background-color: white'><tr><th>date</th><th>sales</th></tr></thead><tbody><tr><td>2024-01-01</td><td>20000</td></tr><tr><td>2024-01-02</td><td>10000</td></tr><tr><td>2024-01-03</td><td>150000</td></tr><tr><td>2024-01-04</td><td>100000</td></tr><tr><td>2024-01-05</td><td>210000</td></tr></tbody></table></div>"
      ]
     },
     "metadata": {
      "application/vnd.databricks.v1+output": {
       "addedWidgets": {},
       "aggData": [],
       "aggError": "",
       "aggOverflow": false,
       "aggSchema": [],
       "aggSeriesLimitReached": false,
       "aggType": "",
       "arguments": {},
       "columnCustomDisplayInfos": {},
       "data": [
        [
         "2024-01-01",
         20000
        ],
        [
         "2024-01-02",
         10000
        ],
        [
         "2024-01-03",
         150000
        ],
        [
         "2024-01-04",
         100000
        ],
        [
         "2024-01-05",
         210000
        ]
       ],
       "datasetInfos": [],
       "dbfsResultPath": null,
       "isJsonSchema": true,
       "metadata": {},
       "overflow": false,
       "plotOptions": {
        "customPlotOptions": {},
        "displayType": "table",
        "pivotAggregation": null,
        "pivotColumns": null,
        "xColumns": null,
        "yColumns": null
       },
       "removedWidgets": [],
       "schema": [
        {
         "metadata": "{}",
         "name": "date",
         "type": "\"string\""
        },
        {
         "metadata": "{}",
         "name": "sales",
         "type": "\"long\""
        }
       ],
       "type": "table"
      }
     },
     "output_type": "display_data"
    }
   ],
   "source": [
    "display(df)"
   ]
  },
  {
   "cell_type": "code",
   "execution_count": 0,
   "metadata": {
    "application/vnd.databricks.v1+cell": {
     "cellMetadata": {
      "byteLimit": 2048000,
      "rowLimit": 10000
     },
     "inputWidgets": {},
     "nuid": "6d2e5442-d512-4136-81b9-398e4b4605d8",
     "showTitle": false,
     "tableResultSettingsMap": {},
     "title": ""
    }
   },
   "outputs": [
    {
     "output_type": "stream",
     "name": "stdout",
     "output_type": "stream",
     "text": [
      "+----------+------+----------+\n|      date| sales|cumm_sales|\n+----------+------+----------+\n|2024-01-01| 20000|     20000|\n|2024-01-02| 10000|     30000|\n|2024-01-03|150000|    180000|\n|2024-01-04|100000|    280000|\n|2024-01-05|210000|    490000|\n+----------+------+----------+\n\n"
     ]
    }
   ],
   "source": [
    "from pyspark.sql import Window\n",
    "from pyspark.sql.functions import *\n",
    "\n",
    "window = Window.orderBy('date')\n",
    "df.withColumn('cumm_sales',sum(col('sales')).over(window)).show()"
   ]
  },
  {
   "cell_type": "code",
   "execution_count": 0,
   "metadata": {
    "application/vnd.databricks.v1+cell": {
     "cellMetadata": {
      "byteLimit": 2048000,
      "rowLimit": 10000
     },
     "inputWidgets": {},
     "nuid": "262cd361-1897-469c-8e5a-61aca8de7571",
     "showTitle": false,
     "tableResultSettingsMap": {},
     "title": ""
    }
   },
   "outputs": [
    {
     "output_type": "stream",
     "name": "stdout",
     "output_type": "stream",
     "text": [
      "+----------+------+----------+----------+\n|      date| sales|cumm_sales|prev_sales|\n+----------+------+----------+----------+\n|2024-01-01| 20000|     20000|      null|\n|2024-01-02| 10000|     30000|     20000|\n|2024-01-03|150000|    180000|     10000|\n|2024-01-04|100000|    280000|    150000|\n|2024-01-05|210000|    490000|    100000|\n+----------+------+----------+----------+\n\n"
     ]
    }
   ],
   "source": [
    "from pyspark.sql import Window\n",
    "from pyspark.sql.functions import *\n",
    "\n",
    "window = Window.orderBy('date')\n",
    "df1=df.withColumn('cumm_sales',sum(col('sales')).over(window))\n",
    "df1.withColumn('prev_sales',lag(col('sales')).over(window)).show()"
   ]
  },
  {
   "cell_type": "code",
   "execution_count": 0,
   "metadata": {
    "application/vnd.databricks.v1+cell": {
     "cellMetadata": {
      "byteLimit": 2048000,
      "rowLimit": 10000
     },
     "inputWidgets": {},
     "nuid": "e7a6abd9-15e9-4ed7-95c2-1fd4896805f7",
     "showTitle": false,
     "tableResultSettingsMap": {},
     "title": ""
    }
   },
   "outputs": [
    {
     "output_type": "stream",
     "name": "stdout",
     "output_type": "stream",
     "text": [
      "+----------+------+----------+----------+----------+\n|      date| sales|cumm_sales|prev_sales|next_sales|\n+----------+------+----------+----------+----------+\n|2024-01-01| 20000|     20000|      null|     10000|\n|2024-01-02| 10000|     30000|     20000|    150000|\n|2024-01-03|150000|    180000|     10000|    100000|\n|2024-01-04|100000|    280000|    150000|    210000|\n|2024-01-05|210000|    490000|    100000|      null|\n+----------+------+----------+----------+----------+\n\n"
     ]
    }
   ],
   "source": [
    "from pyspark.sql import Window\n",
    "from pyspark.sql.functions import *\n",
    "\n",
    "window = Window.orderBy('date')\n",
    "df1=df.withColumn('cumm_sales',sum(col('sales')).over(window))\n",
    "df2=df1.withColumn('prev_sales',lag(col('sales')).over(window))\n",
    "df2.withColumn('next_sales',lead(col('sales')).over(window)).show()"
   ]
  },
  {
   "cell_type": "code",
   "execution_count": 0,
   "metadata": {
    "application/vnd.databricks.v1+cell": {
     "cellMetadata": {},
     "inputWidgets": {},
     "nuid": "7b203954-5f01-4ba0-9446-f4e151b3fd77",
     "showTitle": false,
     "tableResultSettingsMap": {},
     "title": ""
    }
   },
   "outputs": [],
   "source": []
  }
 ],
 "metadata": {
  "application/vnd.databricks.v1+notebook": {
   "computePreferences": null,
   "dashboards": [],
   "environmentMetadata": {
    "base_environment": "",
    "environment_version": "1"
   },
   "inputWidgetPreferences": null,
   "language": "python",
   "notebookMetadata": {
    "mostRecentlyExecutedCommandWithImplicitDF": {
     "commandId": 3509953788643616,
     "dataframes": [
      "_sqldf"
     ]
    },
    "pythonIndentUnit": 4
   },
   "notebookName": "Lab 27  Interview Question",
   "widgets": {}
  }
 },
 "nbformat": 4,
 "nbformat_minor": 0
}