{
 "cells": [
  {
   "cell_type": "code",
   "execution_count": 0,
   "metadata": {
    "application/vnd.databricks.v1+cell": {
     "cellMetadata": {
      "byteLimit": 2048000,
      "rowLimit": 10000
     },
     "inputWidgets": {},
     "nuid": "1b94049a-66a2-40d4-9bbf-56ac2e60539d",
     "showTitle": false,
     "tableResultSettingsMap": {},
     "title": ""
    }
   },
   "outputs": [
    {
     "output_type": "stream",
     "name": "stdout",
     "output_type": "stream",
     "text": [
      "+----------+--------------------+\n|  date_col|       timestamp_col|\n+----------+--------------------+\n|2022-03-15|2022-03-16 12:34:...|\n|2022-03-01|2022-03-16 01:23:...|\n+----------+--------------------+\n\n"
     ]
    }
   ],
   "source": [
    "data = [(\"2022-03-15\", \"2022-03-16 12:34:56.789\"), \n",
    "        (\"2022-03-01\", \"2022-03-16 01:23:45.678\")]\n",
    "df = spark.createDataFrame(data, [\"date_col\", \"timestamp_col\"])\n",
    "df.show()"
   ]
  },
  {
   "cell_type": "code",
   "execution_count": 0,
   "metadata": {
    "application/vnd.databricks.v1+cell": {
     "cellMetadata": {
      "byteLimit": 2048000,
      "rowLimit": 10000
     },
     "inputWidgets": {},
     "nuid": "28aa7d42-1e5a-4ec5-9386-8550a10b0b65",
     "showTitle": false,
     "tableResultSettingsMap": {},
     "title": ""
    }
   },
   "outputs": [
    {
     "output_type": "stream",
     "name": "stdout",
     "output_type": "stream",
     "text": [
      "+----------+----------+\n|  date_col|  new_date|\n+----------+----------+\n|2022-03-15|2022-04-14|\n|2022-03-01|2022-03-31|\n+----------+----------+\n\n"
     ]
    }
   ],
   "source": [
    "from pyspark.sql.functions import *\n",
    "\n",
    "df.select(\"date_col\",date_add(\"date_col\", 30).alias(\"new_date\")).show()"
   ]
  },
  {
   "cell_type": "code",
   "execution_count": 0,
   "metadata": {
    "application/vnd.databricks.v1+cell": {
     "cellMetadata": {
      "byteLimit": 2048000,
      "rowLimit": 10000
     },
     "inputWidgets": {},
     "nuid": "e63dee82-4de8-40b5-b742-fd43f234df0b",
     "showTitle": false,
     "tableResultSettingsMap": {},
     "title": ""
    }
   },
   "outputs": [
    {
     "output_type": "stream",
     "name": "stdout",
     "output_type": "stream",
     "text": [
      "+----------+----------+\n|  date_col|  new_date|\n+----------+----------+\n|2022-03-15|2022-03-08|\n|2022-03-01|2022-02-22|\n+----------+----------+\n\n"
     ]
    }
   ],
   "source": [
    "df.select(\"date_col\",date_sub(\"date_col\", 7).alias(\"new_date\")).show()"
   ]
  },
  {
   "cell_type": "code",
   "execution_count": 0,
   "metadata": {
    "application/vnd.databricks.v1+cell": {
     "cellMetadata": {
      "byteLimit": 2048000,
      "rowLimit": 10000
     },
     "inputWidgets": {},
     "nuid": "8edc97ef-566f-4ab4-84c7-26bf0bffc0d4",
     "showTitle": false,
     "tableResultSettingsMap": {},
     "title": ""
    }
   },
   "outputs": [],
   "source": [
    "df1 = df.select(\"date_col\",date_sub(\"date_col\", 7).alias(\"new_date\"))"
   ]
  },
  {
   "cell_type": "code",
   "execution_count": 0,
   "metadata": {
    "application/vnd.databricks.v1+cell": {
     "cellMetadata": {
      "byteLimit": 2048000,
      "rowLimit": 10000
     },
     "inputWidgets": {},
     "nuid": "b1e787f9-a676-4853-8a5e-5eaa97d71054",
     "showTitle": false,
     "tableResultSettingsMap": {},
     "title": ""
    }
   },
   "outputs": [
    {
     "output_type": "stream",
     "name": "stdout",
     "output_type": "stream",
     "text": [
      "+----------+----------+\n|  date_col|  new_date|\n+----------+----------+\n|2022-03-15|2022-03-08|\n|2022-03-01|2022-02-22|\n+----------+----------+\n\n"
     ]
    }
   ],
   "source": [
    "df1.show()"
   ]
  },
  {
   "cell_type": "code",
   "execution_count": 0,
   "metadata": {
    "application/vnd.databricks.v1+cell": {
     "cellMetadata": {
      "byteLimit": 2048000,
      "rowLimit": 10000
     },
     "inputWidgets": {},
     "nuid": "190cc2da-d12c-44a5-b107-9c9156d310ae",
     "showTitle": false,
     "tableResultSettingsMap": {},
     "title": ""
    }
   },
   "outputs": [
    {
     "output_type": "stream",
     "name": "stdout",
     "output_type": "stream",
     "text": [
      "+----------+----------+----------+\n|  date_col|  new_date|Diff_count|\n+----------+----------+----------+\n|2022-03-15|2022-03-08|         7|\n|2022-03-01|2022-02-22|         7|\n+----------+----------+----------+\n\n"
     ]
    }
   ],
   "source": [
    "df1.select(\"date_col\",\"new_date\",datediff(\"date_col\",\"new_date\").alias(\"Diff_count\")).show()"
   ]
  },
  {
   "cell_type": "code",
   "execution_count": 0,
   "metadata": {
    "application/vnd.databricks.v1+cell": {
     "cellMetadata": {
      "byteLimit": 2048000,
      "rowLimit": 10000
     },
     "inputWidgets": {},
     "nuid": "8503e31c-3597-4e49-9602-e8ad05e46673",
     "showTitle": false,
     "tableResultSettingsMap": {},
     "title": ""
    }
   },
   "outputs": [
    {
     "output_type": "stream",
     "name": "stdout",
     "output_type": "stream",
     "text": [
      "+----------+--------------+\n|  date_col|year(date_col)|\n+----------+--------------+\n|2022-03-15|          2022|\n|2022-03-01|          2022|\n+----------+--------------+\n\n"
     ]
    }
   ],
   "source": [
    "df1.select(\"date_col\",year(\"date_col\")).show()"
   ]
  },
  {
   "cell_type": "code",
   "execution_count": 0,
   "metadata": {
    "application/vnd.databricks.v1+cell": {
     "cellMetadata": {
      "byteLimit": 2048000,
      "rowLimit": 10000
     },
     "inputWidgets": {},
     "nuid": "df056a7d-4104-418b-91d1-8080a6ad5726",
     "showTitle": false,
     "tableResultSettingsMap": {},
     "title": ""
    }
   },
   "outputs": [
    {
     "output_type": "stream",
     "name": "stdout",
     "output_type": "stream",
     "text": [
      "+----------+---------------+\n|  date_col|month(date_col)|\n+----------+---------------+\n|2022-03-15|              3|\n|2022-03-01|              3|\n+----------+---------------+\n\n"
     ]
    }
   ],
   "source": [
    "df1.select(\"date_col\",month(\"date_col\")).show()"
   ]
  },
  {
   "cell_type": "code",
   "execution_count": 0,
   "metadata": {
    "application/vnd.databricks.v1+cell": {
     "cellMetadata": {
      "byteLimit": 2048000,
      "rowLimit": 10000
     },
     "inputWidgets": {},
     "nuid": "fc782183-b816-4eec-9590-030fe808c35a",
     "showTitle": false,
     "tableResultSettingsMap": {},
     "title": ""
    }
   },
   "outputs": [
    {
     "output_type": "stream",
     "name": "stdout",
     "output_type": "stream",
     "text": [
      "+----------+--------------------+\n|  date_col|dayofmonth(date_col)|\n+----------+--------------------+\n|2022-03-15|                  15|\n|2022-03-01|                   1|\n+----------+--------------------+\n\n"
     ]
    }
   ],
   "source": [
    "df1.select(\"date_col\",dayofmonth(\"date_col\")).show()"
   ]
  },
  {
   "cell_type": "code",
   "execution_count": 0,
   "metadata": {
    "application/vnd.databricks.v1+cell": {
     "cellMetadata": {
      "byteLimit": 2048000,
      "rowLimit": 10000
     },
     "inputWidgets": {},
     "nuid": "be86c117-bd56-4c41-9492-be053449d4e3",
     "showTitle": false,
     "tableResultSettingsMap": {},
     "title": ""
    }
   },
   "outputs": [
    {
     "output_type": "stream",
     "name": "stdout",
     "output_type": "stream",
     "text": [
      "+----------+-------------------+\n|  date_col|dayofyear(date_col)|\n+----------+-------------------+\n|2022-03-15|                 74|\n|2022-03-01|                 60|\n+----------+-------------------+\n\n"
     ]
    }
   ],
   "source": [
    "df1.select(\"date_col\",dayofyear(\"date_col\")).show()"
   ]
  },
  {
   "cell_type": "code",
   "execution_count": 0,
   "metadata": {
    "application/vnd.databricks.v1+cell": {
     "cellMetadata": {
      "byteLimit": 2048000,
      "rowLimit": 10000
     },
     "inputWidgets": {},
     "nuid": "0f3629f0-c8ae-42d3-8a2f-f6161b0f6e9a",
     "showTitle": false,
     "tableResultSettingsMap": {},
     "title": ""
    }
   },
   "outputs": [
    {
     "output_type": "stream",
     "name": "stdout",
     "output_type": "stream",
     "text": [
      "+----------+-------------------+\n|  date_col|dayofweek(date_col)|\n+----------+-------------------+\n|2022-03-15|                  3|\n|2022-03-01|                  3|\n+----------+-------------------+\n\n"
     ]
    }
   ],
   "source": [
    "df1.select(\"date_col\",dayofweek(\"date_col\")).show()"
   ]
  },
  {
   "cell_type": "code",
   "execution_count": 0,
   "metadata": {
    "application/vnd.databricks.v1+cell": {
     "cellMetadata": {},
     "inputWidgets": {},
     "nuid": "bf3479f2-0f91-4d7d-9914-462c7ee1ed1e",
     "showTitle": false,
     "tableResultSettingsMap": {},
     "title": ""
    }
   },
   "outputs": [],
   "source": []
  }
 ],
 "metadata": {
  "application/vnd.databricks.v1+notebook": {
   "computePreferences": null,
   "dashboards": [],
   "environmentMetadata": {
    "base_environment": "",
    "environment_version": "1"
   },
   "inputWidgetPreferences": null,
   "language": "python",
   "notebookMetadata": {
    "pythonIndentUnit": 4
   },
   "notebookName": "Lab 19 Date Function",
   "widgets": {}
  }
 },
 "nbformat": 4,
 "nbformat_minor": 0
}