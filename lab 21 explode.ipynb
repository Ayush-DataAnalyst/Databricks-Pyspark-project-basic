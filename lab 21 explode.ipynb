{
 "cells": [
  {
   "cell_type": "code",
   "execution_count": 0,
   "metadata": {
    "application/vnd.databricks.v1+cell": {
     "cellMetadata": {
      "byteLimit": 2048000,
      "rowLimit": 10000
     },
     "inputWidgets": {},
     "nuid": "48e4fe69-9416-4487-9a6d-af8eabae7a9a",
     "showTitle": false,
     "tableResultSettingsMap": {},
     "title": ""
    }
   },
   "outputs": [
    {
     "output_type": "stream",
     "name": "stdout",
     "output_type": "stream",
     "text": [
      "+------+--------------------+\n|  name|            language|\n+------+--------------------+\n|Manish|  [Java, Scala, C++]|\n| rahul|[Spark, Java, C++...|\n| shyam|[CSharp, VB, Spar...|\n+------+--------------------+\n\n"
     ]
    }
   ],
   "source": [
    "data = [\n",
    "  (\"Manish\",[\"Java\",\"Scala\",\"C++\"]),\n",
    "  (\"rahul\",[\"Spark\",\"Java\",\"C++\",\"Spark\",\"Java\"]),\n",
    "  (\"shyam\",[\"CSharp\",\"VB\",\"Spark\",\"Python\"])\n",
    "]\n",
    "columns=[\"name\",\"language\"]\n",
    "\n",
    "df = spark.createDataFrame(data,columns)\n",
    "df.show()"
   ]
  },
  {
   "cell_type": "code",
   "execution_count": 0,
   "metadata": {
    "application/vnd.databricks.v1+cell": {
     "cellMetadata": {
      "byteLimit": 2048000,
      "rowLimit": 10000
     },
     "inputWidgets": {},
     "nuid": "ac54735d-586b-409d-8c8c-f47c16b1c18d",
     "showTitle": false,
     "tableResultSettingsMap": {},
     "title": ""
    }
   },
   "outputs": [
    {
     "output_type": "stream",
     "name": "stdout",
     "output_type": "stream",
     "text": [
      "+------+------+\n|  name|   col|\n+------+------+\n|Manish|  Java|\n|Manish| Scala|\n|Manish|   C++|\n| rahul| Spark|\n| rahul|  Java|\n| rahul|   C++|\n| rahul| Spark|\n| rahul|  Java|\n| shyam|CSharp|\n| shyam|    VB|\n| shyam| Spark|\n| shyam|Python|\n+------+------+\n\n"
     ]
    }
   ],
   "source": [
    "from pyspark.sql.functions import *\n",
    "\n",
    "df.select(\"name\",explode(col(\"language\"))).show()"
   ]
  },
  {
   "cell_type": "code",
   "execution_count": 0,
   "metadata": {
    "application/vnd.databricks.v1+cell": {
     "cellMetadata": {
      "byteLimit": 2048000,
      "rowLimit": 10000
     },
     "inputWidgets": {},
     "nuid": "da79dbc1-242f-4bf0-9f40-25aa6f6dc4bf",
     "showTitle": false,
     "tableResultSettingsMap": {},
     "title": ""
    }
   },
   "outputs": [],
   "source": [
    "df.createOrReplaceTempView(\"sample\")"
   ]
  },
  {
   "cell_type": "code",
   "execution_count": 0,
   "metadata": {
    "application/vnd.databricks.v1+cell": {
     "cellMetadata": {
      "byteLimit": 2048000,
      "implicitDf": true,
      "rowLimit": 10000
     },
     "inputWidgets": {},
     "nuid": "8507a0ed-028c-43ae-85aa-790c8fcffac3",
     "showTitle": false,
     "tableResultSettingsMap": {},
     "title": ""
    }
   },
   "outputs": [
    {
     "output_type": "display_data",
     "data": {
      "text/html": [
       "<style scoped>\n",
       "  .table-result-container {\n",
       "    max-height: 300px;\n",
       "    overflow: auto;\n",
       "  }\n",
       "  table, th, td {\n",
       "    border: 1px solid black;\n",
       "    border-collapse: collapse;\n",
       "  }\n",
       "  th, td {\n",
       "    padding: 5px;\n",
       "  }\n",
       "  th {\n",
       "    text-align: left;\n",
       "  }\n",
       "</style><div class='table-result-container'><table class='table-result'><thead style='background-color: white'><tr><th>name</th><th>language</th></tr></thead><tbody><tr><td>Manish</td><td>List(Java, Scala, C++)</td></tr><tr><td>rahul</td><td>List(Spark, Java, C++, Spark, Java)</td></tr><tr><td>shyam</td><td>List(CSharp, VB, Spark, Python)</td></tr></tbody></table></div>"
      ]
     },
     "metadata": {
      "application/vnd.databricks.v1+output": {
       "addedWidgets": {},
       "aggData": [],
       "aggError": "",
       "aggOverflow": false,
       "aggSchema": [],
       "aggSeriesLimitReached": false,
       "aggType": "",
       "arguments": {},
       "columnCustomDisplayInfos": {},
       "data": [
        [
         "Manish",
         [
          "Java",
          "Scala",
          "C++"
         ]
        ],
        [
         "rahul",
         [
          "Spark",
          "Java",
          "C++",
          "Spark",
          "Java"
         ]
        ],
        [
         "shyam",
         [
          "CSharp",
          "VB",
          "Spark",
          "Python"
         ]
        ]
       ],
       "datasetInfos": [],
       "dbfsResultPath": null,
       "isJsonSchema": true,
       "metadata": {},
       "overflow": false,
       "plotOptions": {
        "customPlotOptions": {},
        "displayType": "table",
        "pivotAggregation": null,
        "pivotColumns": null,
        "xColumns": null,
        "yColumns": null
       },
       "removedWidgets": [],
       "schema": [
        {
         "metadata": "{}",
         "name": "name",
         "type": "\"string\""
        },
        {
         "metadata": "{}",
         "name": "language",
         "type": "{\"type\":\"array\",\"elementType\":\"string\",\"containsNull\":true}"
        }
       ],
       "type": "table"
      }
     },
     "output_type": "display_data"
    }
   ],
   "source": [
    "%sql\n",
    "select * from sample"
   ]
  },
  {
   "cell_type": "code",
   "execution_count": 0,
   "metadata": {
    "application/vnd.databricks.v1+cell": {
     "cellMetadata": {
      "byteLimit": 2048000,
      "implicitDf": true,
      "rowLimit": 10000
     },
     "inputWidgets": {},
     "nuid": "dc570739-dd8e-4071-b154-6043561ebdd5",
     "showTitle": false,
     "tableResultSettingsMap": {},
     "title": ""
    }
   },
   "outputs": [
    {
     "output_type": "display_data",
     "data": {
      "text/html": [
       "<style scoped>\n",
       "  .table-result-container {\n",
       "    max-height: 300px;\n",
       "    overflow: auto;\n",
       "  }\n",
       "  table, th, td {\n",
       "    border: 1px solid black;\n",
       "    border-collapse: collapse;\n",
       "  }\n",
       "  th, td {\n",
       "    padding: 5px;\n",
       "  }\n",
       "  th {\n",
       "    text-align: left;\n",
       "  }\n",
       "</style><div class='table-result-container'><table class='table-result'><thead style='background-color: white'><tr><th>name</th><th>col</th></tr></thead><tbody><tr><td>Manish</td><td>Java</td></tr><tr><td>Manish</td><td>Scala</td></tr><tr><td>Manish</td><td>C++</td></tr><tr><td>rahul</td><td>Spark</td></tr><tr><td>rahul</td><td>Java</td></tr><tr><td>rahul</td><td>C++</td></tr><tr><td>rahul</td><td>Spark</td></tr><tr><td>rahul</td><td>Java</td></tr><tr><td>shyam</td><td>CSharp</td></tr><tr><td>shyam</td><td>VB</td></tr><tr><td>shyam</td><td>Spark</td></tr><tr><td>shyam</td><td>Python</td></tr></tbody></table></div>"
      ]
     },
     "metadata": {
      "application/vnd.databricks.v1+output": {
       "addedWidgets": {},
       "aggData": [],
       "aggError": "",
       "aggOverflow": false,
       "aggSchema": [],
       "aggSeriesLimitReached": false,
       "aggType": "",
       "arguments": {},
       "columnCustomDisplayInfos": {},
       "data": [
        [
         "Manish",
         "Java"
        ],
        [
         "Manish",
         "Scala"
        ],
        [
         "Manish",
         "C++"
        ],
        [
         "rahul",
         "Spark"
        ],
        [
         "rahul",
         "Java"
        ],
        [
         "rahul",
         "C++"
        ],
        [
         "rahul",
         "Spark"
        ],
        [
         "rahul",
         "Java"
        ],
        [
         "shyam",
         "CSharp"
        ],
        [
         "shyam",
         "VB"
        ],
        [
         "shyam",
         "Spark"
        ],
        [
         "shyam",
         "Python"
        ]
       ],
       "datasetInfos": [],
       "dbfsResultPath": null,
       "isJsonSchema": true,
       "metadata": {},
       "overflow": false,
       "plotOptions": {
        "customPlotOptions": {},
        "displayType": "table",
        "pivotAggregation": null,
        "pivotColumns": null,
        "xColumns": null,
        "yColumns": null
       },
       "removedWidgets": [],
       "schema": [
        {
         "metadata": "{}",
         "name": "name",
         "type": "\"string\""
        },
        {
         "metadata": "{}",
         "name": "col",
         "type": "\"string\""
        }
       ],
       "type": "table"
      }
     },
     "output_type": "display_data"
    }
   ],
   "source": [
    "%sql \n",
    "select name, explode(language) from sample"
   ]
  },
  {
   "cell_type": "code",
   "execution_count": 0,
   "metadata": {
    "application/vnd.databricks.v1+cell": {
     "cellMetadata": {},
     "inputWidgets": {},
     "nuid": "a83feca2-35be-41e1-82a8-74f7891997e2",
     "showTitle": false,
     "tableResultSettingsMap": {},
     "title": ""
    }
   },
   "outputs": [],
   "source": []
  }
 ],
 "metadata": {
  "application/vnd.databricks.v1+notebook": {
   "computePreferences": null,
   "dashboards": [],
   "environmentMetadata": {
    "base_environment": "",
    "environment_version": "1"
   },
   "inputWidgetPreferences": null,
   "language": "python",
   "notebookMetadata": {
    "mostRecentlyExecutedCommandWithImplicitDF": {
     "commandId": 2381574403960792,
     "dataframes": [
      "_sqldf"
     ]
    },
    "pythonIndentUnit": 4
   },
   "notebookName": "lab 21 explode",
   "widgets": {}
  }
 },
 "nbformat": 4,
 "nbformat_minor": 0
}